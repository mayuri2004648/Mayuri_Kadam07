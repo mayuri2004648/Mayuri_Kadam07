{
 "cells": [
  {
   "cell_type": "markdown",
   "id": "cd9518a7-3aec-4f5f-8957-176ccbc05a43",
   "metadata": {},
   "source": [
    "## Tuple"
   ]
  },
  {
   "cell_type": "markdown",
   "id": "b84c52ff-d7e9-42cf-ae32-ecdd87427c38",
   "metadata": {},
   "source": [
    "Q1: \n",
    "\n",
    "Join Tuples if similar initial element\n",
    "While working with Python tuples, we can have a problem in which we need to perform concatenation of records from the similarity of initial element. This problem can have applications in data domains such as Data Science.\n",
    "\n",
    "For eg.\n",
    "\n",
    "Input  : test_list = [(5, 6), (5, 7), (5, 8), (6, 10), (7, 13)] \n",
    "Output : [(5, 6, 7, 8), (6, 10), (7, 13)] "
   ]
  },
  {
   "cell_type": "code",
   "execution_count": 2,
   "id": "e4253067-f72d-4a32-8b4b-34da7a8279be",
   "metadata": {},
   "outputs": [
    {
     "name": "stdout",
     "output_type": "stream",
     "text": [
      "[(5, 6, 7, 8), (6, 10), (7, 13)]\n"
     ]
    }
   ],
   "source": [
    "from collections import defaultdict\n",
    "\n",
    "def join_tuples_by_initial_element(test_list):\n",
    "    # Create a default dictionary where each value is a list\n",
    "    grouped = defaultdict(list)\n",
    "    \n",
    "    # Group the tuples by their initial element\n",
    "    for tup in test_list:\n",
    "        grouped[tup[0]].extend(tup[1:])\n",
    "    \n",
    "    # Create the result list by concatenating tuples for each group\n",
    "    result = [(key, *values) for key, values in grouped.items()]\n",
    "    \n",
    "    return result\n",
    "\n",
    "# Test the function with the provided example\n",
    "test_list = [(5, 6), (5, 7), (5, 8), (6, 10), (7, 13)]\n",
    "print(join_tuples_by_initial_element(test_list))"
   ]
  },
  {
   "cell_type": "markdown",
   "id": "f521a681-6ec1-41b7-832e-8f75f089a728",
   "metadata": {},
   "source": [
    "Q2: \n",
    "\n",
    "Multiply Adjacent elements (both side) and take sum of right and lest side multiplication result.\n",
    "For eg.\n",
    "\n",
    "The original tuple : (1, 5, 7, 8, 10)\n",
    "Resultant tuple after multiplication : \n",
    "\n",
    "(1*5, 1*5+5*7, 7*5 + 7*8, 8*7 + 8*10, 10*8) -> (5, 40, 91, 136, 80)\n",
    "\n",
    "output-(5, 40, 91, 136, 80)"
   ]
  },
  {
   "cell_type": "code",
   "execution_count": 3,
   "id": "26b4ae87-20cf-4904-ac6a-17f39a1ee38a",
   "metadata": {},
   "outputs": [
    {
     "name": "stdout",
     "output_type": "stream",
     "text": [
      "(5, 40, 91, 136, 80)\n"
     ]
    }
   ],
   "source": [
    "def multiply_adjacent_elements(tup):\n",
    "    n = len(tup)\n",
    "    result = []\n",
    "    \n",
    "    for i in range(n):\n",
    "        if i == 0:\n",
    "            result.append(tup[i] * tup[i+1])\n",
    "        elif i == n - 1:\n",
    "            result.append(tup[i] * tup[i-1])\n",
    "        else:\n",
    "            result.append(tup[i-1] * tup[i] + tup[i] * tup[i+1])\n",
    "    \n",
    "    return tuple(result)\n",
    "\n",
    "# Example usage\n",
    "original_tuple = (1, 5, 7, 8, 10)\n",
    "resultant_tuple = multiply_adjacent_elements(original_tuple)\n",
    "print(resultant_tuple)"
   ]
  },
  {
   "cell_type": "markdown",
   "id": "b2d7a800-061b-40e6-b6d3-1cd4b1dd4f1c",
   "metadata": {},
   "source": [
    "Q3: \n",
    "\n",
    "Check is tuples are same or not?\n",
    "Two tuples would be same if both tuples have same element at same index\n",
    "\n",
    "t1 = (1,2,3,0)\n",
    "t2 = (0,1,2,3)\n",
    "\n",
    "t1 and t2 are not same"
   ]
  },
  {
   "cell_type": "code",
   "execution_count": 4,
   "id": "3ca70ab6-7a3a-4014-96b9-d02c80a9ff1a",
   "metadata": {},
   "outputs": [
    {
     "name": "stdout",
     "output_type": "stream",
     "text": [
      "False\n"
     ]
    }
   ],
   "source": [
    "t1 = (1, 2, 3, 0)\n",
    "t2 = (0, 1, 2, 3)\n",
    "\n",
    "are_tuples_same = t1 == t2\n",
    "print(are_tuples_same)  # This will print False since t1 and t2 are not the same"
   ]
  },
  {
   "cell_type": "markdown",
   "id": "b228b59d-2640-4c4e-91bd-3142f2b4aeee",
   "metadata": {},
   "source": [
    "Q4: \n",
    "\n",
    "Count no of tuples, list and set from a list\n",
    "list1 = [{'hi', 'bye'},{'Geeks', 'forGeeks'},('a', 'b'),['hi', 'bye'],['a', 'b']]\n",
    "Output:\n",
    "\n",
    "List-2\n",
    "Set-2\n",
    "Tuples-1"
   ]
  },
  {
   "cell_type": "code",
   "execution_count": 5,
   "id": "9385994a-f3a8-4c73-aeea-d021a3e4c2de",
   "metadata": {},
   "outputs": [
    {
     "name": "stdout",
     "output_type": "stream",
     "text": [
      "List-2\n",
      "Set-2\n",
      "Tuples-1\n"
     ]
    }
   ],
   "source": [
    "list1 = [{'hi', 'bye'},{'Geeks', 'forGeeks'},('a', 'b'),['hi', 'bye'],['a', 'b']]\n",
    "\n",
    "# Initialize counters\n",
    "list_count = 0\n",
    "set_count = 0\n",
    "tuple_count = 0\n",
    "\n",
    "# Iterate through the elements in list1 and count each type\n",
    "for item in list1:\n",
    "    if isinstance(item, list):\n",
    "        list_count += 1\n",
    "    elif isinstance(item, set):\n",
    "        set_count += 1\n",
    "    elif isinstance(item, tuple):\n",
    "        tuple_count += 1\n",
    "\n",
    "# Output the counts\n",
    "print(f\"List-{list_count}\")\n",
    "print(f\"Set-{set_count}\")\n",
    "print(f\"Tuples-{tuple_count}\")"
   ]
  },
  {
   "cell_type": "markdown",
   "id": "4ab8bf7b-c9d1-448a-8484-396800c56601",
   "metadata": {},
   "source": [
    "Q5: \n",
    "\n",
    "Shortlist Students for a Job role\n",
    "Ask user to input students record and store in tuples for each record. Then Ask user to input three things he wants in the candidate- Primary Skill, Higher Education, Year of Graduation.\n",
    "\n",
    "Show every students record in form of tuples if matches all required criteria.\n",
    "\n",
    "It is assumed that there will be only one primry skill.\n",
    "\n",
    "If no such candidate found, print No such candidate"
   ]
  },
  {
   "cell_type": "code",
   "execution_count": 1,
   "id": "1f81c01b-c172-4c62-aee8-b4b39bd34346",
   "metadata": {},
   "outputs": [
    {
     "name": "stdin",
     "output_type": "stream",
     "text": [
      "Enter number of records:  2\n"
     ]
    },
    {
     "name": "stdout",
     "output_type": "stream",
     "text": [
      "\n",
      "Enter Details of student-1\n"
     ]
    },
    {
     "name": "stdin",
     "output_type": "stream",
     "text": [
      "Enter Student name:  manohar\n",
      "Enter Higher Education:  B.Tech\n",
      "Enter Primary Skill:  python\n",
      "Enter Year of Graduation:  2022\n"
     ]
    },
    {
     "name": "stdout",
     "output_type": "stream",
     "text": [
      "\n",
      "Enter Details of student-2\n"
     ]
    },
    {
     "name": "stdin",
     "output_type": "stream",
     "text": [
      "Enter Student name:  ponian\n",
      "Enter Higher Education:  B.Sc.\n",
      "Enter Primary Skill:  c++\n",
      "Enter Year of Graduation:  2022\n"
     ]
    },
    {
     "name": "stdout",
     "output_type": "stream",
     "text": [
      "\n",
      "Enter Job Role Requirement\n"
     ]
    },
    {
     "name": "stdin",
     "output_type": "stream",
     "text": [
      "Enter Skill:  python\n",
      "Enter Higher Education:  B.Tech\n",
      "Enter Year of Graduation:  2022\n"
     ]
    },
    {
     "name": "stdout",
     "output_type": "stream",
     "text": [
      "('manohar', 'B.Tech', 'python', '2022')\n"
     ]
    }
   ],
   "source": [
    "def get_student_records():\n",
    "    students = []\n",
    "    num_records = int(input(\"Enter number of records: \"))\n",
    "    \n",
    "    for i in range(num_records):\n",
    "        print(f\"\\nEnter Details of student-{i+1}\")\n",
    "        name = input(\"Enter Student name: \")\n",
    "        education = input(\"Enter Higher Education: \")\n",
    "        skill = input(\"Enter Primary Skill: \")\n",
    "        graduation_year = input(\"Enter Year of Graduation: \")\n",
    "        students.append((name, education, skill, graduation_year))\n",
    "    \n",
    "    return students\n",
    "\n",
    "def get_job_requirements():\n",
    "    print(\"\\nEnter Job Role Requirement\")\n",
    "    skill = input(\"Enter Skill: \")\n",
    "    education = input(\"Enter Higher Education: \")\n",
    "    graduation_year = input(\"Enter Year of Graduation: \")\n",
    "    \n",
    "    return skill, education, graduation_year\n",
    "\n",
    "def find_matching_candidates(students, requirements):\n",
    "    matches = [student for student in students if (student[2] == requirements[0] and \n",
    "                                                   student[1] == requirements[1] and \n",
    "                                                   student[3] == requirements[2])]\n",
    "    \n",
    "    return matches\n",
    "\n",
    "students = get_student_records()\n",
    "requirements = get_job_requirements()\n",
    "matches = find_matching_candidates(students, requirements)\n",
    "\n",
    "if matches:\n",
    "    for match in matches:\n",
    "        print(match)\n",
    "else:\n",
    "    print(\"No such candidate\")"
   ]
  },
  {
   "cell_type": "markdown",
   "id": "46d7fad2-7b6e-42f9-b486-9c7da7724477",
   "metadata": {},
   "source": [
    "## Set"
   ]
  },
  {
   "cell_type": "markdown",
   "id": "578ab7fe-bf2e-42f4-80aa-69c88c37956a",
   "metadata": {},
   "source": [
    "Q1: \n",
    "\n",
    "Write a program to find set of common elements in three lists using sets.\n",
    "Input : ar1 = [1, 5, 10, 20, 40, 80]\n",
    "        ar2 = [6, 7, 20, 80, 100]\n",
    "        ar3 = [3, 4, 15, 20, 30, 70, 80, 120]\n",
    "\n",
    "Output : [80, 20]"
   ]
  },
  {
   "cell_type": "code",
   "execution_count": 2,
   "id": "ae58b447-647c-4521-9b88-b4516bda0566",
   "metadata": {},
   "outputs": [
    {
     "name": "stdout",
     "output_type": "stream",
     "text": [
      "[80, 20]\n"
     ]
    }
   ],
   "source": [
    "def find_common_elements(ar1, ar2, ar3):\n",
    "    # Convert lists to sets\n",
    "    set1 = set(ar1)\n",
    "    set2 = set(ar2)\n",
    "    set3 = set(ar3)\n",
    "    \n",
    "    # Find the intersection of the three sets\n",
    "    common_elements = set1.intersection(set2).intersection(set3)\n",
    "    \n",
    "    # Convert the result to a list\n",
    "    common_elements_list = list(common_elements)\n",
    "    \n",
    "    return common_elements_list\n",
    "\n",
    "# Example usage\n",
    "ar1 = [1, 5, 10, 20, 40, 80]\n",
    "ar2 = [6, 7, 20, 80, 100]\n",
    "ar3 = [3, 4, 15, 20, 30, 70, 80, 120]\n",
    "\n",
    "print(find_common_elements(ar1, ar2, ar3))"
   ]
  },
  {
   "cell_type": "markdown",
   "id": "b9810e30-abb9-4719-94ee-dcb17c2e2f2b",
   "metadata": {},
   "source": [
    "Q2: \n",
    "\n",
    "Write a program to count unique number of vowels using sets in a given string. Lowercase and upercase vowels will be taken as different.\n",
    "Input:\n",
    "\n",
    "Str1 = \"hands-on data science mentorship progrAm with live classes at affordable fee only on CampusX\"\n",
    "Output:"
   ]
  },
  {
   "cell_type": "code",
   "execution_count": 3,
   "id": "fb235678-76d9-464a-934f-d5ca057a7c09",
   "metadata": {},
   "outputs": [
    {
     "name": "stdout",
     "output_type": "stream",
     "text": [
      "No of unique vowels- 6\n"
     ]
    }
   ],
   "source": [
    "def count_unique_vowels(s):\n",
    "    vowels = {'a', 'e', 'i', 'o', 'u', 'A', 'E', 'I', 'O', 'U'}\n",
    "    unique_vowels = set()\n",
    "\n",
    "    for char in s:\n",
    "        if char in vowels:\n",
    "            unique_vowels.add(char)\n",
    "\n",
    "    return len(unique_vowels)\n",
    "\n",
    "# Test the function with the provided input\n",
    "str1 = \"hands-on data science mentorship progrAm with live classes at affordable fee only on CampusX\"\n",
    "print(\"No of unique vowels-\", count_unique_vowels(str1))"
   ]
  },
  {
   "cell_type": "markdown",
   "id": "30aa907e-d77e-4d2c-bf65-4a077a491bb0",
   "metadata": {},
   "source": [
    "Q3: \n",
    "\n",
    "Write a program to Check if a given string is binary string of or not.\n",
    "A string is said to be binary if it's consists of only two unique characters.\n",
    "\n",
    "Take string input from user.\n",
    "\n",
    "Input: str = \"01010101010\"\n",
    "Output: Yes\n",
    "\n",
    "Input: str = \"1222211\"\n",
    "Output: Yes\n",
    "\n",
    "Input: str = \"Campusx\"\n",
    "Output: No"
   ]
  },
  {
   "cell_type": "code",
   "execution_count": 5,
   "id": "9e8f4be3-035b-4ee8-b3f0-b09743a42894",
   "metadata": {},
   "outputs": [
    {
     "name": "stdin",
     "output_type": "stream",
     "text": [
      "Enter a string:  01010101010\n"
     ]
    },
    {
     "name": "stdout",
     "output_type": "stream",
     "text": [
      "Yes\n"
     ]
    }
   ],
   "source": [
    "def is_binary_string(s):\n",
    "    # Convert the string to a set to get unique characters\n",
    "    unique_chars = set(s)\n",
    "    # Check if the length of the set is 2\n",
    "    return len(unique_chars) == 2\n",
    "\n",
    "# Take string input from user\n",
    "input_str = input(\"Enter a string: \")\n",
    "\n",
    "# Check if the string is binary and print the result\n",
    "if is_binary_string(input_str):\n",
    "    print(\"Yes\")\n",
    "else:\n",
    "    print(\"No\")"
   ]
  },
  {
   "cell_type": "markdown",
   "id": "1193cd76-809b-49cd-8fe0-c0322a6c08dd",
   "metadata": {},
   "source": [
    "Q4:\n",
    "\n",
    "find union of n arrays.\n",
    "Example 1:\n",
    "\n",
    "Input:\n",
    "\n",
    "[[1, 2, 2, 4, 3, 6],\n",
    " [5, 1, 3, 4],\n",
    " [9, 5, 7, 1],\n",
    " [2, 4, 1, 3]]\n",
    "Output:\n",
    "\n",
    "[1, 2, 3, 4, 5, 6, 7, 9]"
   ]
  },
  {
   "cell_type": "code",
   "execution_count": 7,
   "id": "1f88a9a0-3b8d-4969-90ba-f9058d923376",
   "metadata": {},
   "outputs": [
    {
     "name": "stdout",
     "output_type": "stream",
     "text": [
      "[1, 2, 3, 4, 5, 6, 7, 9]\n"
     ]
    }
   ],
   "source": [
    "def union_of_arrays(arrays):\n",
    "    result = set()\n",
    "    for array in arrays:\n",
    "        result.update(array)\n",
    "    return sorted(result)  # If you need the result sorted as in your example\n",
    "\n",
    "# Example usage:\n",
    "arrays = [\n",
    "    [1, 2, 2, 4, 3, 6],\n",
    "    [5, 1, 3, 4],\n",
    "    [9, 5, 7, 1],\n",
    "    [2, 4, 1, 3]\n",
    "]\n",
    "\n",
    "print(union_of_arrays(arrays)) "
   ]
  },
  {
   "cell_type": "markdown",
   "id": "b7e050e6-a236-49ed-b551-7e66d3581120",
   "metadata": {},
   "source": [
    "Q5: \n",
    "\n",
    "Intersection of two lists. Intersection of two list means we need to take all those elements which are common to both of the initial lists and store them into another list. Only use using list-comprehension.\n",
    "Example 1:\n",
    "\n",
    "Input:\n",
    "\n",
    "lst1 = {15, 9, 10, 56, 23, 78, 5, 4, 9}\n",
    "lst2 = {9, 4, 5, 36, 47, 26, 10, 45, 87}\n",
    "Output:\n",
    "\n",
    "[9, 10, 4, 5]"
   ]
  },
  {
   "cell_type": "code",
   "execution_count": 8,
   "id": "1043f35c-d000-45e4-99c6-82f29afa3112",
   "metadata": {},
   "outputs": [
    {
     "name": "stdout",
     "output_type": "stream",
     "text": [
      "[4, 5, 9, 10]\n"
     ]
    }
   ],
   "source": [
    "lst1 = {15, 9, 10, 56, 23, 78, 5, 4, 9}\n",
    "lst2 = {9, 4, 5, 36, 47, 26, 10, 45, 87}\n",
    "\n",
    "intersection = [x for x in lst1 if x in lst2]\n",
    "\n",
    "print(intersection)"
   ]
  },
  {
   "cell_type": "markdown",
   "id": "69f70882-cdb6-40d4-b079-e5c2a511a132",
   "metadata": {},
   "source": [
    "## Dictionary"
   ]
  },
  {
   "cell_type": "markdown",
   "id": "3e0a1512-0ac9-41d0-8cf2-77f083d315cd",
   "metadata": {},
   "source": [
    "Q1: \n",
    "\n",
    "Key with maximum unique values\n",
    "Given a dictionary with values list, extract key whose value has most unique values.\n",
    "\n",
    "Example 1:\n",
    "\n",
    "Input:\n",
    "\n",
    "test_dict = {\"CampusX\" : [5, 7, 9, 4, 0], \"is\" : [6, 7, 4, 3, 3], \"Best\" : [9, 9, 6, 5, 5]}\n",
    "Output:\n",
    "\n",
    "CampusX"
   ]
  },
  {
   "cell_type": "code",
   "execution_count": null,
   "id": "ff17cf16-d87d-4423-ad3d-b6eda1a47082",
   "metadata": {},
   "outputs": [],
   "source": []
  },
  {
   "cell_type": "markdown",
   "id": "2122ce46-2614-4358-9bef-98140e8e4596",
   "metadata": {},
   "source": [
    "Q2:  \n",
    "\n",
    "Replace words from Dictionary. Given String, replace it’s words from lookup dictionary.\n",
    "Example 1:\n",
    "\n",
    "Input:\n",
    "\n",
    "test_str = 'CampusX best for DS students.'\n",
    "repl_dict = {\"best\" : \"is the best channel\", \"DS\" : \"Data-Science\"}\n",
    "Output:\n",
    "\n",
    "CampusX is the best channel for Data-Science students."
   ]
  },
  {
   "cell_type": "code",
   "execution_count": 1,
   "id": "66f403b7-2007-4ab3-ba76-59e2380dc049",
   "metadata": {},
   "outputs": [
    {
     "name": "stdout",
     "output_type": "stream",
     "text": [
      "CampusX is the best channel for Data-Science students.\n"
     ]
    }
   ],
   "source": [
    "import re\n",
    "\n",
    "def replace_words(test_str, repl_dict):\n",
    "    # Sort the keys by length in descending order to avoid partial replacements\n",
    "    sorted_keys = sorted(repl_dict.keys(), key=len, reverse=True)\n",
    "    \n",
    "    # Create a regex pattern with all keys\n",
    "    pattern = re.compile(r'\\b(' + '|'.join(map(re.escape, sorted_keys)) + r')\\b')\n",
    "    \n",
    "    # Function to replace each match with the corresponding value from the dictionary\n",
    "    result = pattern.sub(lambda x: repl_dict[x.group()], test_str)\n",
    "    \n",
    "    return result\n",
    "\n",
    "# Example usage\n",
    "test_str = 'CampusX best for DS students.'\n",
    "repl_dict = {\"best\": \"is the best channel\", \"DS\": \"Data-Science\"}\n",
    "\n",
    "output = replace_words(test_str, repl_dict)\n",
    "print(output)  # Output: CampusX is the best channel for Data-Science students."
   ]
  },
  {
   "cell_type": "markdown",
   "id": "07c95a72-b638-4174-936c-f10086cbc1c0",
   "metadata": {},
   "source": [
    "Q3: Convert List to List of dictionaries. Given list values and keys list, convert these values to key value pairs in form of list of dictionaries.\n",
    "Example 1:\n",
    "\n",
    "Input:\n",
    "\n",
    "test_list = [\"DataScience\", 3, \"is\", 8]\n",
    "key_list = [\"name\", \"id\"]\n",
    "Output:\n",
    "\n",
    "[{'name': 'DataScience', 'id': 3}, {'name': 'is', 'id': 8}]"
   ]
  },
  {
   "cell_type": "code",
   "execution_count": 2,
   "id": "bcfee3ad-70c4-4e47-9c40-4f770e30f5e4",
   "metadata": {},
   "outputs": [
    {
     "name": "stdout",
     "output_type": "stream",
     "text": [
      "[{'name': 'DataScience', 'id': 3}, {'name': 'is', 'id': 8}]\n"
     ]
    }
   ],
   "source": [
    "def list_to_dict_list(values_list, keys_list):\n",
    "    # Initialize the result list\n",
    "    result = []\n",
    "    \n",
    "    # Calculate the number of dictionaries we will have\n",
    "    num_dicts = len(values_list) // len(keys_list)\n",
    "    \n",
    "    for i in range(num_dicts):\n",
    "        # Create a dictionary for each segment of the values_list\n",
    "        temp_dict = {}\n",
    "        for j in range(len(keys_list)):\n",
    "            temp_dict[keys_list[j]] = values_list[i * len(keys_list) + j]\n",
    "        result.append(temp_dict)\n",
    "    \n",
    "    return result\n",
    "\n",
    "# Example usage:\n",
    "test_list = [\"DataScience\", 3, \"is\", 8]\n",
    "key_list = [\"name\", \"id\"]\n",
    "output = list_to_dict_list(test_list, key_list)\n",
    "print(output)"
   ]
  },
  {
   "cell_type": "markdown",
   "id": "663eb34b-1353-4209-80a7-de0605de9a0e",
   "metadata": {},
   "source": [
    "Q4: Convert a list of Tuples into Dictionary.\n",
    "Example 1:\n",
    "\n",
    "Input:\n",
    "\n",
    "[(\"akash\", 10), (\"gaurav\", 12), (\"anand\", 14), (\"suraj\", 20), (\"akhil\", 25), (\"ashish\", 30)]\n",
    "Output:\n",
    "\n",
    "{'akash': [10], 'gaurav': [12], 'anand': [14], 'suraj': [20], 'akhil': [25], 'ashish': [30]}\n",
    "Example 2:"
   ]
  },
  {
   "cell_type": "code",
   "execution_count": 3,
   "id": "d26536dd-f879-40ed-a163-2d7e0117b7f0",
   "metadata": {},
   "outputs": [
    {
     "name": "stdout",
     "output_type": "stream",
     "text": [
      "{'akash': [10], 'gaurav': [12], 'anand': [14], 'suraj': [20], 'akhil': [25], 'ashish': [30]}\n"
     ]
    }
   ],
   "source": [
    "def tuples_to_dict(tuples_list):\n",
    "    result = {}\n",
    "    \n",
    "    for key, value in tuples_list:\n",
    "        if key in result:\n",
    "            result[key].append(value)\n",
    "        else:\n",
    "            result[key] = [value]\n",
    "    \n",
    "    return result\n",
    "\n",
    "# Example usage:\n",
    "input_list = [(\"akash\", 10), (\"gaurav\", 12), (\"anand\", 14), (\"suraj\", 20), (\"akhil\", 25), (\"ashish\", 30)]\n",
    "output = tuples_to_dict(input_list)\n",
    "print(output)"
   ]
  },
  {
   "cell_type": "markdown",
   "id": "311c7abb-6d9d-42c2-8848-14a00579d3ce",
   "metadata": {},
   "source": [
    "Q5: Sort Dictionary key and values List.\n",
    "Example 1:\n",
    "\n",
    "Input:\n",
    "\n",
    "{'c': [3], 'b': [12, 10], 'a': [19, 4]}\n",
    "Output:\n",
    "\n",
    "{'a': [4, 19], 'b': [10, 12], 'c': [3]}"
   ]
  },
  {
   "cell_type": "code",
   "execution_count": 4,
   "id": "6fe2b529-d6e1-47bb-a465-891b11a33638",
   "metadata": {},
   "outputs": [
    {
     "name": "stdout",
     "output_type": "stream",
     "text": [
      "{'a': [4, 19], 'b': [10, 12], 'c': [3]}\n"
     ]
    }
   ],
   "source": [
    "def sort_dict(d):\n",
    "    # Sort the dictionary by keys and sort the values\n",
    "    sorted_dict = {k: sorted(v) for k, v in sorted(d.items())}\n",
    "    return sorted_dict\n",
    "\n",
    "# Example input\n",
    "input_dict = {'c': [3], 'b': [12, 10], 'a': [19, 4]}\n",
    "\n",
    "# Get the sorted dictionary\n",
    "output_dict = sort_dict(input_dict)\n",
    "\n",
    "print(output_dict)"
   ]
  },
  {
   "cell_type": "code",
   "execution_count": null,
   "id": "2d7acc75-4c2c-48cd-8bce-ba9f80bd28ee",
   "metadata": {},
   "outputs": [],
   "source": []
  }
 ],
 "metadata": {
  "kernelspec": {
   "display_name": "Python 3 (ipykernel)",
   "language": "python",
   "name": "python3"
  },
  "language_info": {
   "codemirror_mode": {
    "name": "ipython",
    "version": 3
   },
   "file_extension": ".py",
   "mimetype": "text/x-python",
   "name": "python",
   "nbconvert_exporter": "python",
   "pygments_lexer": "ipython3",
   "version": "3.11.7"
  }
 },
 "nbformat": 4,
 "nbformat_minor": 5
}

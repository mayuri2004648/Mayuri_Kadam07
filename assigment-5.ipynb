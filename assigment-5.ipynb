{
 "cells": [
  {
   "cell_type": "markdown",
   "id": "f58264ae-bc8b-4183-8627-84065fbfafb9",
   "metadata": {},
   "source": [
    "Problem-1: Write a Python function that takes a list and returns a new list with unique elements of the first list.\n",
    "Exercise 1:\n",
    "\n",
    "Input:\n",
    "\n",
    "[1,2,3,3,3,3,4,5]\n",
    "Output:\n",
    "\n",
    "[1, 2, 3, 4, 5]\n"
   ]
  },
  {
   "cell_type": "code",
   "execution_count": 1,
   "id": "93e3c76d-7519-45cb-be4a-f922b65183f3",
   "metadata": {},
   "outputs": [
    {
     "name": "stdout",
     "output_type": "stream",
     "text": [
      "[1, 2, 3, 4, 5]\n"
     ]
    }
   ],
   "source": [
    "def unique_list(numbers):\n",
    "    unique = []\n",
    "    for item in numbers :\n",
    "        if item not in unique:\n",
    "            unique.append(item)\n",
    "    return unique\n",
    "\n",
    "print(unique_list([1, 2, 3 , 3 , 3 , 3 , 4 , 5]))"
   ]
  },
  {
   "cell_type": "markdown",
   "id": "589c117f-21b5-4cd8-b33e-91fb4f2ba79c",
   "metadata": {},
   "source": [
    "**`Problem-2:`** Write a Python function that accepts a hyphen-separated sequence of words as parameter and returns the words in a hyphen-separated sequence after sorting them alphabetically.\n"
   ]
  },
  {
   "cell_type": "code",
   "execution_count": 2,
   "id": "744b6e3d-9ecd-46fd-b638-2ba3aaf4dee3",
   "metadata": {},
   "outputs": [
    {
     "name": "stdout",
     "output_type": "stream",
     "text": [
      "black-green-red-white-yellow\n"
     ]
    }
   ],
   "source": [
    "def sort_words(hyphen_separated_string):\n",
    "    words = hyphen_separated_string.split('-')\n",
    "    sorted_words = sorted(words)\n",
    "    return '-'.join(sorted_words)\n",
    "\n",
    "# Example usage:\n",
    "input_string = \"green-red-yellow-black-white\"\n",
    "sorted_result = sort_words(input_string)\n",
    "print(sorted_result)"
   ]
  },
  {
   "cell_type": "markdown",
   "id": "178480de-f38b-413d-8802-b2a1c3820820",
   "metadata": {},
   "source": [
    "Problem 3: Write a Python function that accepts a string and calculate the number of upper case letters and lower case letters.\n",
    "Sample String : 'CampusX is an Online Mentorship Program fOr EnginEering studentS.'\n",
    "Expected Output :\n",
    "No. of Upper case characters :  9\n",
    "No. of Lower case Characters :  47\n"
   ]
  },
  {
   "cell_type": "code",
   "execution_count": 3,
   "id": "2d9c2baa-5a55-4ceb-8f75-bd2d12f5e9cc",
   "metadata": {},
   "outputs": [
    {
     "name": "stdout",
     "output_type": "stream",
     "text": [
      "Original String: The quick Brown Fox\n",
      "No. of uppercase characters: 3\n",
      "No. of lowercase characters: 13\n"
     ]
    }
   ],
   "source": [
    "def count_upper_lower(s):\n",
    "    counts = {\"UPPER_CASE\": 0, \"LOWER_CASE\": 0}\n",
    "    for char in s:\n",
    "        if char.isupper():\n",
    "            counts[\"UPPER_CASE\"] += 1\n",
    "        elif char.islower():\n",
    "            counts[\"LOWER_CASE\"] += 1\n",
    "    print(f\"Original String: {s}\")\n",
    "    print(f\"No. of uppercase characters: {counts['UPPER_CASE']}\")\n",
    "    print(f\"No. of lowercase characters: {counts['LOWER_CASE']}\")\n",
    "\n",
    "# Example usage:\n",
    "count_upper_lower(\"The quick Brown Fox\")"
   ]
  },
  {
   "cell_type": "markdown",
   "id": "0fdc8fa7-010f-476c-8db6-c57d0265345b",
   "metadata": {},
   "source": [
    "Problem 4: Write a Python program to print the even numbers from a given list.\n",
    "Sample List : [1, 2, 3, 4, 5, 6, 7, 8, 9]\n",
    "Expected Result : [2, 4, 6, 8]\n"
   ]
  },
  {
   "cell_type": "code",
   "execution_count": 4,
   "id": "3ca1e3b5-8e44-4092-9e38-f733a0b28bbd",
   "metadata": {},
   "outputs": [
    {
     "name": "stdout",
     "output_type": "stream",
     "text": [
      "[2, 4, 6, 8]\n"
     ]
    }
   ],
   "source": [
    "def print_even_numbers(lst):\n",
    "    even_numbers = [num for num in lst if num % 2 == 0]\n",
    "    print(even_numbers)\n",
    "\n",
    "sample_list = [1, 2, 3, 4, 5, 6, 7, 8, 9]\n",
    "print_even_numbers(sample_list)"
   ]
  },
  {
   "cell_type": "markdown",
   "id": "ca9ca551-4339-4b77-8a84-0ef74c0dd132",
   "metadata": {},
   "source": [
    "Problem 5: Write a Python function to check whether a number is perfect or not.\n",
    "A Perfect number is a number that is half the sum of all of its positive divisors (including itself).\n",
    "\n",
    "Example :\n",
    "\n",
    "The first perfect number is 6, because 1, 2, and 3 are its proper positive divisors, and 1 + 2 + 3 = 6. \n",
    "Equivalently, the number 6 is equal to half the sum of all its positive divisors: ( 1 + 2 + 3 + 6 ) / 2 = 6. \n",
    "\n",
    "The next perfect number is 28 = 1 + 2 + 4 + 7 + 14. This is followed by the perfect numbers 496 and 8128.\n"
   ]
  },
  {
   "cell_type": "code",
   "execution_count": 5,
   "id": "3f317ded-d337-47d3-a9f7-b9aa5831f2cf",
   "metadata": {},
   "outputs": [
    {
     "name": "stdout",
     "output_type": "stream",
     "text": [
      "True\n",
      "True\n",
      "False\n"
     ]
    }
   ],
   "source": [
    "def is_perfect_number(n):\n",
    "    if n < 2:\n",
    "        return False\n",
    "    \n",
    "    divisors = [1]\n",
    "    for i in range(2, int(n ** 0.5) + 1):\n",
    "        if n % i == 0:\n",
    "            divisors.append(i)\n",
    "            if i != n // i:\n",
    "                divisors.append(n // i)\n",
    "    \n",
    "    return sum(divisors) == n\n",
    "\n",
    "# Example usage:\n",
    "print(is_perfect_number(6))   # Output: True\n",
    "print(is_perfect_number(28))  # Output: True\n",
    "print(is_perfect_number(12))  # Output: False"
   ]
  },
  {
   "cell_type": "markdown",
   "id": "96487f67-c236-43f6-8ab2-9355be1ee7fb",
   "metadata": {},
   "source": [
    "Problem-6: Write a Python function to concatenate any no of dictionaries to create a new one.\n",
    "Sample Dictionary :\n",
    "dic1={1:10, 2:20}\n",
    "dic2={3:30, 4:40}\n",
    "dic3={5:50,6:60}\n",
    "Expected Result : {1: 10, 2: 20, 3: 30, 4: 40, 5: 50, 6: 60}\n"
   ]
  },
  {
   "cell_type": "code",
   "execution_count": 6,
   "id": "6688eb31-a980-4b01-9c53-1c2008ada952",
   "metadata": {},
   "outputs": [
    {
     "name": "stdout",
     "output_type": "stream",
     "text": [
      "{1: 10, 2: 20, 3: 30, 4: 40, 5: 50, 6: 60}\n"
     ]
    }
   ],
   "source": [
    "def concatenate_dictionaries(*dicts):\n",
    "    result = {}\n",
    "    for dictionary in dicts:\n",
    "        result.update(dictionary)\n",
    "    return result\n",
    "\n",
    "# Example usage:\n",
    "dic1 = {1: 10, 2: 20}\n",
    "dic2 = {3: 30, 4: 40}\n",
    "dic3 = {5: 50, 6: 60}\n",
    "\n",
    "result = concatenate_dictionaries(dic1, dic2, dic3)\n",
    "print(result)  # Output: {1: 10, 2: 20, 3: 30, 4: 40, 5: 50, 6: 60}"
   ]
  },
  {
   "cell_type": "markdown",
   "id": "a542e132-179c-4fbf-8459-877da7bc41bc",
   "metadata": {},
   "source": [
    "Problem-7 Write a python function that accepts a string as input and returns the word with most occurence.\n",
    "\n",
    "Input:\n",
    "hello how are you i am fine thank you\n",
    "Output\n",
    "you -> 2\n"
   ]
  },
  {
   "cell_type": "code",
   "execution_count": 7,
   "id": "1813525d-3164-4e03-a51f-4518ae2b934a",
   "metadata": {},
   "outputs": [
    {
     "name": "stdout",
     "output_type": "stream",
     "text": [
      "you -> 2\n"
     ]
    }
   ],
   "source": [
    "from collections import Counter\n",
    "\n",
    "def most_frequent_word(s):\n",
    "    words = s.split()\n",
    "    word_counts = Counter(words)\n",
    "    most_common_word, count = word_counts.most_common(1)[0]\n",
    "    return most_common_word, count\n",
    "\n",
    "# Example usage:\n",
    "input_string = \"hello how are you i am fine thank you\"\n",
    "word, count = most_frequent_word(input_string)\n",
    "print(f\"{word} -> {count}\")  # Output: you -> 2"
   ]
  },
  {
   "cell_type": "markdown",
   "id": "ac40605f-def6-4d76-b4dc-d072e7c4d8e4",
   "metadata": {},
   "source": [
    "Problem-8 Write a python function that receives a list of integers and prints out a histogram of bin size 10\n",
    "\n",
    "Input:\n",
    "[13,42,15,37,22,39,41,50]\n",
    "Output:\n",
    "{11-20:2,21-30:1,31-40:2,41-50:3}\n"
   ]
  },
  {
   "cell_type": "code",
   "execution_count": 8,
   "id": "19ec2f3e-7011-4e8e-b5e1-c6368bcc0781",
   "metadata": {},
   "outputs": [
    {
     "name": "stdout",
     "output_type": "stream",
     "text": [
      "11-20: 2\n",
      "21-30: 1\n",
      "31-40: 2\n",
      "41-50: 2\n",
      "51-60: 1\n"
     ]
    }
   ],
   "source": [
    "def histogram(data):\n",
    "    # Initialize an empty dictionary to hold the bins\n",
    "    bins = {}\n",
    "    \n",
    "    # Iterate through each number in the input list\n",
    "    for num in data:\n",
    "        # Determine the bin for the current number\n",
    "        bin_key = (num // 10) * 10 + 1\n",
    "        bin_range = f\"{bin_key}-{bin_key + 9}\"\n",
    "        \n",
    "        # Increment the count for the current bin\n",
    "        if bin_range in bins:\n",
    "            bins[bin_range] += 1\n",
    "        else:\n",
    "            bins[bin_range] = 1\n",
    "    \n",
    "    # Print the histogram\n",
    "    for bin_range in sorted(bins):\n",
    "        print(f\"{bin_range}: {bins[bin_range]}\")\n",
    "\n",
    "# Test the function with the provided input\n",
    "input_data = [13, 42, 15, 37, 22, 39, 41, 50]\n",
    "histogram(input_data)"
   ]
  },
  {
   "cell_type": "markdown",
   "id": "f56515c8-c74d-4b4a-a6e7-5bba285538f5",
   "metadata": {},
   "source": [
    "Problem-9 Write a python function that accepts a list of 2D co-ordinates and a query point, and then finds the the co-ordinate which is closest in terms of distance from the query point.\n",
    "\n",
    "List of Coordinates\n",
    "[(1,1),(2,2),(3,3),(4,4)]\n",
    "Query Point\n",
    "(0,0)\n",
    "Output\n",
    "Nearest to (0,0) is (1,1)\n"
   ]
  },
  {
   "cell_type": "code",
   "execution_count": 9,
   "id": "cb69e5ec-149a-4159-915f-ba2fd857de2a",
   "metadata": {},
   "outputs": [
    {
     "name": "stdout",
     "output_type": "stream",
     "text": [
      "Nearest to (0, 0) is (1, 1)\n"
     ]
    }
   ],
   "source": [
    "import math\n",
    "\n",
    "def find_closest_coordinate(coords, query_point):\n",
    "    def euclidean_distance(p1, p2):\n",
    "        return math.sqrt((p1[0] - p2[0])*2 + (p1[1] - p2[1])*2)\n",
    "    \n",
    "    closest_coord = None\n",
    "    min_distance = float('inf')\n",
    "    \n",
    "    for coord in coords:\n",
    "        distance = euclidean_distance(coord, query_point)\n",
    "        if distance < min_distance:\n",
    "            min_distance = distance\n",
    "            closest_coord = coord\n",
    "            \n",
    "    return closest_coord\n",
    "\n",
    "# Example usage:\n",
    "coordinates = [(1, 1), (2, 2), (3, 3), (4, 4)]\n",
    "query_point = (0, 0)\n",
    "\n",
    "nearest = find_closest_coordinate(coordinates, query_point)\n",
    "print(f\"Nearest to {query_point} is {nearest}\")"
   ]
  },
  {
   "cell_type": "markdown",
   "id": "5274000d-a80b-4be5-9e95-be7993292a2c",
   "metadata": {},
   "source": [
    "Problem-10:Write a python program that receives a list of strings and performs bag of word operation on those strings\n",
    "\n",
    "https://en.wikipedia.org/wiki/Bag-of-words_model\n",
    "\n"
   ]
  },
  {
   "cell_type": "code",
   "execution_count": 10,
   "id": "9ac3f2b5-bf2b-459e-9744-f1be52f3aeb0",
   "metadata": {},
   "outputs": [
    {
     "name": "stdout",
     "output_type": "stream",
     "text": [
      "Bag of Words Matrix:\n",
      "[[1 0 0 0 1 1 1 2]\n",
      " [0 0 1 1 0 1 1 2]\n",
      " [1 1 1 0 0 0 0 2]]\n",
      "\n",
      "Feature Names:\n",
      "['cat' 'chased' 'dog' 'log' 'mat' 'on' 'sat' 'the']\n"
     ]
    }
   ],
   "source": [
    "from collections import Counter\n",
    "from sklearn.feature_extraction.text import CountVectorizer\n",
    "\n",
    "def bag_of_words(texts):\n",
    "    vectorizer = CountVectorizer()\n",
    "    X = vectorizer.fit_transform(texts)\n",
    "    return X.toarray(), vectorizer.get_feature_names_out()\n",
    "\n",
    "# Example usage\n",
    "texts = [\n",
    "    \"The cat sat on the mat\",\n",
    "    \"The dog sat on the log\",\n",
    "    \"The cat chased the dog\"\n",
    "]\n",
    "\n",
    "bow_matrix, feature_names = bag_of_words(texts)\n",
    "\n",
    "print(\"Bag of Words Matrix:\")\n",
    "print(bow_matrix)\n",
    "\n",
    "print(\"\\nFeature Names:\")\n",
    "print(feature_names)"
   ]
  },
  {
   "cell_type": "markdown",
   "id": "1cbd4fb3-ccbf-417f-b514-b783aed4b3f4",
   "metadata": {},
   "source": [
    "Problem 11: Write a Python program to add three given lists using Python map and lambda.\n"
   ]
  },
  {
   "cell_type": "code",
   "execution_count": 11,
   "id": "77070071-697f-42bc-8958-0aa06889ce27",
   "metadata": {},
   "outputs": [
    {
     "name": "stdout",
     "output_type": "stream",
     "text": [
      "Resultant list: [12, 15, 18]\n"
     ]
    }
   ],
   "source": [
    "# Define the three lists\n",
    "list1 = [1, 2, 3]\n",
    "list2 = [4, 5, 6]\n",
    "list3 = [7, 8, 9]\n",
    "\n",
    "# Add the lists element-wise\n",
    "result = [list1[i] + list2[i] + list3[i] for i in range(len(list1))]\n",
    "\n",
    "# Print the result\n",
    "print(\"Resultant list:\", result)"
   ]
  },
  {
   "cell_type": "markdown",
   "id": "29084e98-ddd0-49a3-8368-60e47d92bd51",
   "metadata": {},
   "source": [
    "Problem-12:Write a Python program to create a list containing the power of said number in bases raised to the corresponding number in the index using Python map.\n",
    "Input:\n",
    "\n",
    "list1 = [1,2,3,4,5,6]\n",
    "Output:\n",
    "\n",
    "[1,2,9,64,625,-]\n"
   ]
  },
  {
   "cell_type": "code",
   "execution_count": 12,
   "id": "d19e7ff7-2ee2-444d-a87f-90ad7da2594f",
   "metadata": {},
   "outputs": [
    {
     "name": "stdout",
     "output_type": "stream",
     "text": [
      "The original list is : [1, 2, 3, 4, 5, 6]\n",
      "Powered elements : [1, 2, 9, 64, 625, 7776]\n"
     ]
    }
   ],
   "source": [
    "# Python3 code to demonstrate working of\n",
    "# Index Power List\n",
    " \n",
    "# initializing list\n",
    "test_list = [1,2,3,4,5,6]\n",
    "             \n",
    "# printing original list\n",
    "print(\"The original list is : \" + str(test_list))\n",
    " \n",
    "# ** does task of getting power\n",
    "res = []\n",
    "import operator\n",
    "for i in range(0,len(test_list)):\n",
    "    res.append(operator.pow(test_list[i],i))\n",
    "     \n",
    "# printing result\n",
    "print(\"Powered elements : \" + str(res))"
   ]
  },
  {
   "cell_type": "markdown",
   "id": "3b80b4c1-147b-42ed-b78a-4d3bb82ac85d",
   "metadata": {},
   "source": [
    "Problem-13 Using filter() and list() functions and .lower() method filter all the vowels in a given string.\n"
   ]
  },
  {
   "cell_type": "code",
   "execution_count": 13,
   "id": "fb64c7f6-9943-4b52-93c5-e8d2412a563c",
   "metadata": {},
   "outputs": [
    {
     "name": "stdout",
     "output_type": "stream",
     "text": [
      "['o', 'u', 'i', 'u', 'i', 'e', 'e']\n"
     ]
    }
   ],
   "source": [
    "def is_vowel(char):\n",
    "    return char.lower() in 'aeiou'\n",
    "\n",
    "input_string = \"Your input string here\"\n",
    "vowels = list(filter(is_vowel, input_string))\n",
    "\n",
    "print(vowels)"
   ]
  },
  {
   "cell_type": "markdown",
   "id": "c8c8576f-6d29-4980-983e-67e7f33f824e",
   "metadata": {},
   "source": [
    "Problem-14: Use reduce to convert a 2D list to 1D\n",
    "\n"
   ]
  },
  {
   "cell_type": "code",
   "execution_count": 14,
   "id": "4eb77c93-6d6e-449b-ad4e-1bf2dca7ca71",
   "metadata": {},
   "outputs": [
    {
     "name": "stdout",
     "output_type": "stream",
     "text": [
      "[1, 2, 3, 4, 5, 6, 7, 8, 9]\n"
     ]
    }
   ],
   "source": [
    "from functools import reduce\n",
    "\n",
    "# Define the 2D list\n",
    "list_2d = [[1, 2, 3], [4, 5], [6, 7, 8, 9]]\n",
    "\n",
    "# Define a function to concatenate two lists\n",
    "def concatenate_lists(list1, list2):\n",
    "    return list1 + list2\n",
    "\n",
    "# Use reduce to convert the 2D list to 1D\n",
    "list_1d = reduce(concatenate_lists, list_2d)\n",
    "\n",
    "print(list_1d)"
   ]
  },
  {
   "cell_type": "code",
   "execution_count": null,
   "id": "4d6c3b20-3e05-4d51-b57a-6e452088d9ff",
   "metadata": {},
   "outputs": [],
   "source": []
  }
 ],
 "metadata": {
  "kernelspec": {
   "display_name": "Python 3 (ipykernel)",
   "language": "python",
   "name": "python3"
  },
  "language_info": {
   "codemirror_mode": {
    "name": "ipython",
    "version": 3
   },
   "file_extension": ".py",
   "mimetype": "text/x-python",
   "name": "python",
   "nbconvert_exporter": "python",
   "pygments_lexer": "ipython3",
   "version": "3.11.7"
  }
 },
 "nbformat": 4,
 "nbformat_minor": 5
}

{
 "cells": [
  {
   "cell_type": "markdown",
   "id": "fd9c6369-5ec0-4731-8c59-fdbdacf2470d",
   "metadata": {},
   "source": [
    "Problem 1:\n",
    "\n",
    "Write a program that will give you in hand monthly salary after deduction on CTC - HRA(10%), DA(5%), PF(3%) and taxes deduction as below: Salary(Lakhs) : Tax(%)\n",
    "\n",
    "Below 5 : 0% 5-10 : 10% 10-20 : 20% aboove 20 : 30%\n",
    "\n"
   ]
  },
  {
   "cell_type": "code",
   "execution_count": 17,
   "id": "7c851f53-2d5c-497b-9bbc-48ad68b14ec5",
   "metadata": {},
   "outputs": [
    {
     "name": "stdin",
     "output_type": "stream",
     "text": [
      "Enter your CTC (in Lakhs):  12\n"
     ]
    },
    {
     "name": "stdout",
     "output_type": "stream",
     "text": [
      "Your monthly salary after deductions is: 0.66 Lakhs\n"
     ]
    }
   ],
   "source": [
    "def calculate_monthly_salary(ctc):\n",
    "    # Constants for deduction percentages\n",
    "    hra_percent = 10\n",
    "    da_percent = 5\n",
    "    pf_percent = 3\n",
    "    \n",
    "    # Calculate total deduction percentage\n",
    "    total_deduction_percent = hra_percent + da_percent + pf_percent\n",
    "    \n",
    "    # Calculate taxable income after deductions\n",
    "    taxable_income = ctc * (1 - total_deduction_percent / 100)\n",
    "    \n",
    "    # Determine tax percentage based on salary slab\n",
    "    if ctc < 5:\n",
    "        tax_percent = 0\n",
    "    elif 5 <= ctc < 10:\n",
    "        tax_percent = 10\n",
    "    elif 10 <= ctc < 20:\n",
    "        tax_percent = 20\n",
    "    else:\n",
    "        tax_percent = 30\n",
    "    \n",
    "    # Calculate tax amount\n",
    "    tax_amount = taxable_income * (tax_percent / 100)\n",
    "    \n",
    "    # Calculate monthly salary after tax deduction\n",
    "    monthly_salary = (taxable_income - tax_amount) / 12\n",
    "    \n",
    "    return monthly_salary\n",
    "\n",
    "# Example usage:\n",
    "ctc = float(input(\"Enter your CTC (in Lakhs): \"))\n",
    "monthly_salary = calculate_monthly_salary(ctc)\n",
    "\n",
    "print(f\"Your monthly salary after deductions is: {monthly_salary:.2f} Lakhs\")"
   ]
  },
  {
   "cell_type": "markdown",
   "id": "cac1ad49-94fc-45da-a6df-c5ffdd39f1b9",
   "metadata": {},
   "source": [
    "Problem 2:\n",
    "\n",
    "Write a program that take a user input of three angles and will find out whether it can form a triangle or not.\n",
    "\n"
   ]
  },
  {
   "cell_type": "code",
   "execution_count": 2,
   "id": "539b7a3b-0522-4e2c-be2e-9cfa412bf88c",
   "metadata": {},
   "outputs": [
    {
     "name": "stdin",
     "output_type": "stream",
     "text": [
      "Enter first angle:  45\n",
      "Enter second angle:  67\n",
      "Enter third angle:  12\n"
     ]
    },
    {
     "name": "stdout",
     "output_type": "stream",
     "text": [
      "No, these angles cannot form a triangle.\n"
     ]
    }
   ],
   "source": [
    "def check_triangle(angle1, angle2, angle3):\n",
    "    # Check if all angles are positive and their sum is 180\n",
    "    if angle1 > 0 and angle2 > 0 and angle3 > 0:\n",
    "        if angle1 + angle2 + angle3 == 180:\n",
    "            return True\n",
    "    return False\n",
    "\n",
    "# Input angles from the user\n",
    "angle1 = int(input(\"Enter first angle: \"))\n",
    "angle2 = int(input(\"Enter second angle: \"))\n",
    "angle3 = int(input(\"Enter third angle: \"))\n",
    "\n",
    "# Check if they can form a triangle\n",
    "if check_triangle(angle1, angle2, angle3):\n",
    "    print(\"Yes, these angles can form a triangle.\")\n",
    "else:\n",
    "    print(\"No, these angles cannot form a triangle.\")"
   ]
  },
  {
   "cell_type": "markdown",
   "id": "a2d16f75-96bc-4372-8af3-400f19814725",
   "metadata": {},
   "source": [
    "Problem 3:\n",
    "\n",
    "Write a program that will take user input of cost price and selling price and determines whether its a loss or a profit.\n",
    "\n"
   ]
  },
  {
   "cell_type": "code",
   "execution_count": 18,
   "id": "8d1cff19-46a5-49b0-9647-175df2605a27",
   "metadata": {},
   "outputs": [
    {
     "name": "stdin",
     "output_type": "stream",
     "text": [
      "Enter first angle:  3000\n",
      "Enter second angle:  40000\n",
      "Enter third angle:  3000\n"
     ]
    },
    {
     "name": "stdout",
     "output_type": "stream",
     "text": [
      "No, these angles cannot form a triangle.\n"
     ]
    }
   ],
   "source": [
    "def check_triangle(angle1, angle2, angle3):\n",
    "    # Check if all angles are positive and their sum is 180\n",
    "    if angle1 > 0 and angle2 > 0 and angle3 > 0:\n",
    "        if angle1 + angle2 + angle3 == 180:\n",
    "            return True\n",
    "    return False\n",
    "\n",
    "# Input angles from the user\n",
    "angle1 = int(input(\"Enter first angle: \"))\n",
    "angle2 = int(input(\"Enter second angle: \"))\n",
    "angle3 = int(input(\"Enter third angle: \"))\n",
    "\n",
    "# Check if they can form a triangle\n",
    "if check_triangle(angle1, angle2, angle3):\n",
    "    print(\"Yes, these angles can form a triangle.\")\n",
    "else:\n",
    "    print(\"No, these angles cannot form a triangle.\")"
   ]
  },
  {
   "cell_type": "markdown",
   "id": "784f468a-5c35-44f4-bc99-b87eede71350",
   "metadata": {},
   "source": [
    "Problem 4:\n",
    "\n",
    "Write a menu-driven program - cm to ft km to miles USD to INR exit\n",
    "\n"
   ]
  },
  {
   "cell_type": "code",
   "execution_count": 4,
   "id": "019b7647-274b-4e71-97a0-93a390a76432",
   "metadata": {},
   "outputs": [
    {
     "name": "stdout",
     "output_type": "stream",
     "text": [
      "\n",
      "Menu:\n",
      "1. Convert cm to ft\n",
      "2. Convert km to miles\n",
      "3. Convert USD to INR\n",
      "4. Exit\n"
     ]
    },
    {
     "name": "stdin",
     "output_type": "stream",
     "text": [
      "Enter your choice (1/2/3/4):  1\n",
      "Enter length in cm:  45\n"
     ]
    },
    {
     "name": "stdout",
     "output_type": "stream",
     "text": [
      "45.0 cm is equal to 1.48 ft\n",
      "\n",
      "Menu:\n",
      "1. Convert cm to ft\n",
      "2. Convert km to miles\n",
      "3. Convert USD to INR\n",
      "4. Exit\n"
     ]
    },
    {
     "name": "stdin",
     "output_type": "stream",
     "text": [
      "Enter your choice (1/2/3/4):  3\n",
      "Enter amount in USD:  23\n"
     ]
    },
    {
     "name": "stdout",
     "output_type": "stream",
     "text": [
      "23.0 USD is equal to 1713.50 INR\n",
      "\n",
      "Menu:\n",
      "1. Convert cm to ft\n",
      "2. Convert km to miles\n",
      "3. Convert USD to INR\n",
      "4. Exit\n"
     ]
    },
    {
     "name": "stdin",
     "output_type": "stream",
     "text": [
      "Enter your choice (1/2/3/4):  4\n"
     ]
    },
    {
     "name": "stdout",
     "output_type": "stream",
     "text": [
      "Exiting the program. Goodbye!\n"
     ]
    }
   ],
   "source": [
    "def cm_to_ft(cm):\n",
    "    return cm / 30.48\n",
    "\n",
    "def km_to_miles(km):\n",
    "    return km / 1.60934\n",
    "\n",
    "def usd_to_inr(usd):\n",
    "    return usd * 74.5  # Assuming conversion rate of 1 USD = 74.5 INR\n",
    "\n",
    "# Function to display menu\n",
    "def display_menu():\n",
    "    print(\"\\nMenu:\")\n",
    "    print(\"1. Convert cm to ft\")\n",
    "    print(\"2. Convert km to miles\")\n",
    "    print(\"3. Convert USD to INR\")\n",
    "    print(\"4. Exit\")\n",
    "\n",
    "# Main program\n",
    "while True:\n",
    "    display_menu()\n",
    "    choice = input(\"Enter your choice (1/2/3/4): \")\n",
    "\n",
    "    if choice == '1':\n",
    "        cm = float(input(\"Enter length in cm: \"))\n",
    "        ft = cm_to_ft(cm)\n",
    "        print(f\"{cm} cm is equal to {ft:.2f} ft\")\n",
    "\n",
    "    elif choice == '2':\n",
    "        km = float(input(\"Enter distance in km: \"))\n",
    "        miles = km_to_miles(km)\n",
    "        print(f\"{km} km is equal to {miles:.2f} miles\")\n",
    "\n",
    "    elif choice == '3':\n",
    "        usd = float(input(\"Enter amount in USD: \"))\n",
    "        inr = usd_to_inr(usd)\n",
    "        print(f\"{usd} USD is equal to {inr:.2f} INR\")\n",
    "\n",
    "    elif choice == '4':\n",
    "        print(\"Exiting the program. Goodbye!\")\n",
    "        break\n",
    "\n",
    "    else:\n",
    "        print(\"Invalid choice! Please enter a valid option (1/2/3/4).\")\n"
   ]
  },
  {
   "cell_type": "markdown",
   "id": "2d90175f-7a5d-4952-b9e1-686912a5458e",
   "metadata": {},
   "source": [
    "Problem 5 -\n",
    "\n",
    "Exercise 12: Display Fibonacci series up to 10 terms. Note: The Fibonacci Sequence is a series of numbers. The next number is found by adding up the two numbers before it. The first two numbers are 0 and 1. For example, 0, 1, 1, 2, 3, 5, 8, 13, 21. The next number in this series above is 13+\n",
    "\n"
   ]
  },
  {
   "cell_type": "code",
   "execution_count": 5,
   "id": "2444efb2-b5a4-4fa4-8bf3-0e04645450ac",
   "metadata": {},
   "outputs": [
    {
     "name": "stdin",
     "output_type": "stream",
     "text": [
      "Enter the number of Fibonacci terms to generate:  20\n"
     ]
    },
    {
     "name": "stdout",
     "output_type": "stream",
     "text": [
      "Fibonacci sequence:\n",
      "[0, 1, 1, 2, 3, 5, 8, 13, 21, 34, 55, 89, 144, 233, 377, 610, 987, 1597, 2584, 4181]\n"
     ]
    }
   ],
   "source": [
    "def fibonacci_sequence(n):\n",
    "    # Initialize first two terms of the sequence\n",
    "    fib_sequence = [0, 1]\n",
    "\n",
    "    # Generate the Fibonacci sequence up to n terms\n",
    "    for i in range(2, n):\n",
    "        next_term = fib_sequence[-1] + fib_sequence[-2]\n",
    "        fib_sequence.append(next_term)\n",
    "\n",
    "    return fib_sequence\n",
    "\n",
    "# Taking user input for the number of terms in Fibonacci sequence\n",
    "n = int(input(\"Enter the number of Fibonacci terms to generate: \"))\n",
    "\n",
    "# Generate and print the Fibonacci sequence\n",
    "fib_seq = fibonacci_sequence(n)\n",
    "print(\"Fibonacci sequence:\")\n",
    "print(fib_seq)"
   ]
  },
  {
   "cell_type": "code",
   "execution_count": null,
   "id": "8730fef0-0f05-42f3-a283-72698ac7bf22",
   "metadata": {},
   "outputs": [],
   "source": []
  },
  {
   "cell_type": "code",
   "execution_count": 6,
   "id": "5dbf6779-c837-43ea-ac2b-7aeff09316b0",
   "metadata": {},
   "outputs": [
    {
     "name": "stdout",
     "output_type": "stream",
     "text": [
      "[120]\n"
     ]
    }
   ],
   "source": [
    "def fact(n):\n",
    "    \"\"\"this function will give factorial value\"\"\"\n",
    "    prod=1\n",
    "    while n>=1:\n",
    "        prod=prod*n\n",
    "        n=n-1\n",
    "    return prod\n",
    "l2=[5]\n",
    "print(list(map(fact,l2)))                "
   ]
  },
  {
   "cell_type": "markdown",
   "id": "2585cce1-d19b-4a3c-956e-db448dca8311",
   "metadata": {},
   "source": [
    "Problem 7 -\n",
    "\n",
    "Reverse a given integer number. Example:\n",
    "\n",
    "Input: 76542\n",
    "\n",
    "Output: 24567"
   ]
  },
  {
   "cell_type": "code",
   "execution_count": 7,
   "id": "7b3196cd-1613-4694-816f-92046a6cb79b",
   "metadata": {},
   "outputs": [
    {
     "name": "stdout",
     "output_type": "stream",
     "text": [
      "The reversed number of 76542 is: 24567\n"
     ]
    }
   ],
   "source": [
    "def reverse_integer(num):\n",
    "    # Convert the number to a string\n",
    "    num_str = str(num)\n",
    "    \n",
    "    # Reverse the string\n",
    "    reversed_str = num_str[::-1]\n",
    "    \n",
    "    # Convert the reversed string back to an integer\n",
    "    reversed_num = int(reversed_str)\n",
    "    \n",
    "    return reversed_num\n",
    "\n",
    "number = 76542\n",
    "reversed_number = reverse_integer(number)\n",
    "\n",
    "print(f\"The reversed number of {number} is: {reversed_number}\")\n"
   ]
  },
  {
   "cell_type": "markdown",
   "id": "00e4c5d2-8bd3-478d-ac71-38172e6966de",
   "metadata": {},
   "source": [
    "Problem 8:\n",
    "\n",
    "Take a user input as integer N. Find out the sum from 1 to N. If any number if divisible by 5, then skip that number. And if the sum is greater than 300, don't need to calculate the sum further more. Print the final result. And don't use for loop to solve this problem. Example 1:\n",
    "\n",
    "Input:\n",
    "\n",
    "30\n",
    "\n",
    "output:\n",
    "\n",
    "276"
   ]
  },
  {
   "cell_type": "code",
   "execution_count": 8,
   "id": "b002f6f1-a2b1-4915-8f8d-1725b1e59fcb",
   "metadata": {},
   "outputs": [
    {
     "name": "stdin",
     "output_type": "stream",
     "text": [
      "Enter an integer N:  24\n"
     ]
    },
    {
     "name": "stdout",
     "output_type": "stream",
     "text": [
      "The sum from 1 to 24 (skipping numbers divisible by 5 and stopping if sum exceeds 300) is: 250\n"
     ]
    }
   ],
   "source": [
    "def sum_up_to_n(n, current_sum=0):\n",
    "    if n == 0:\n",
    "        return current_sum\n",
    "    else:\n",
    "        if n % 5 != 0:\n",
    "            new_sum = current_sum + n\n",
    "            if new_sum > 300:\n",
    "                return new_sum\n",
    "            else:\n",
    "                return sum_up_to_n(n - 1, new_sum)\n",
    "        else:\n",
    "            return sum_up_to_n(n - 1, current_sum)\n",
    "\n",
    "# Taking user input for integer N\n",
    "N = int(input(\"Enter an integer N: \"))\n",
    "\n",
    "# Calculate the sum from 1 to N with given conditions\n",
    "result = sum_up_to_n(N)\n",
    "\n",
    "# Print the final result\n",
    "print(f\"The sum from 1 to {N} (skipping numbers divisible by 5 and stopping if sum exceeds 300) is: {result}\")"
   ]
  },
  {
   "cell_type": "markdown",
   "id": "cf082ee8-78e1-432c-a294-5c1642722c81",
   "metadata": {},
   "source": [
    "Problem 9:\n",
    "\n",
    "Write a program that keeps on accepting a number from the user until the user enters Zero. Display the sum and average of all the numbers.\n",
    "\n"
   ]
  },
  {
   "cell_type": "code",
   "execution_count": 9,
   "id": "37cf1066-7f07-4988-9e41-0d97bf94794e",
   "metadata": {},
   "outputs": [
    {
     "name": "stdin",
     "output_type": "stream",
     "text": [
      "Enter a number (enter 0 to stop):  4\n",
      "Enter a number (enter 0 to stop):  5\n",
      "Enter a number (enter 0 to stop):  6\n",
      "Enter a number (enter 0 to stop):  7\n",
      "Enter a number (enter 0 to stop):  8\n",
      "Enter a number (enter 0 to stop):  9\n",
      "Enter a number (enter 0 to stop):  0\n"
     ]
    },
    {
     "name": "stdout",
     "output_type": "stream",
     "text": [
      "Sum of numbers: 39.0\n",
      "Average of numbers: 6.5\n"
     ]
    }
   ],
   "source": [
    "def main():\n",
    "    numbers = []\n",
    "    \n",
    "    while True:\n",
    "        num = float(input(\"Enter a number (enter 0 to stop): \"))\n",
    "        \n",
    "        if num == 0:\n",
    "            break\n",
    "        \n",
    "        numbers.append(num)\n",
    "    \n",
    "    if numbers:\n",
    "        total_sum = sum(numbers)\n",
    "        average = total_sum / len(numbers)\n",
    "        \n",
    "        print(f\"Sum of numbers: {total_sum}\")\n",
    "        print(f\"Average of numbers: {average}\")\n",
    "    else:\n",
    "        print(\"No numbers were entered.\")\n",
    "\n",
    "if __name__ == \"__main__\":\n",
    "    main()"
   ]
  },
  {
   "cell_type": "markdown",
   "id": "9eae4e5f-bb0c-46a4-9270-6713f65adbf1",
   "metadata": {},
   "source": [
    "Problem 10:\n",
    "\n",
    "Write a program which will find all such numbers which are divisible by 7 but are not a multiple of 5, between 2000 and 3200 (both included). The numbers obtained should be printed in a comma-separated sequence on a single line.\n",
    "\n"
   ]
  },
  {
   "cell_type": "code",
   "execution_count": 10,
   "id": "ed84e4a6-bb96-43a4-800e-ba88b146d68d",
   "metadata": {},
   "outputs": [
    {
     "name": "stdout",
     "output_type": "stream",
     "text": [
      "2002,2009,2016,2023,2037,2044,2051,2058,2072,2079,2086,2093,2107,2114,2121,2128,2142,2149,2156,2163,2177,2184,2191,2198,2212,2219,2226,2233,2247,2254,2261,2268,2282,2289,2296,2303,2317,2324,2331,2338,2352,2359,2366,2373,2387,2394,2401,2408,2422,2429,2436,2443,2457,2464,2471,2478,2492,2499,2506,2513,2527,2534,2541,2548,2562,2569,2576,2583,2597,2604,2611,2618,2632,2639,2646,2653,2667,2674,2681,2688,2702,2709,2716,2723,2737,2744,2751,2758,2772,2779,2786,2793,2807,2814,2821,2828,2842,2849,2856,2863,2877,2884,2891,2898,2912,2919,2926,2933,2947,2954,2961,2968,2982,2989,2996,3003,3017,3024,3031,3038,3052,3059,3066,3073,3087,3094,3101,3108,3122,3129,3136,3143,3157,3164,3171,3178,3192,3199\n"
     ]
    }
   ],
   "source": [
    "# Initialize an empty list to store the numbers\n",
    "result_numbers = []\n",
    "\n",
    "# Iterate through numbers from 2000 to 3200 (inclusive)\n",
    "for num in range(2000, 3201):\n",
    "    if num % 7 == 0 and num % 5 != 0:\n",
    "        result_numbers.append(num)\n",
    "\n",
    "# Print the result as a comma-separated sequence on a single line\n",
    "print(','.join(map(str, result_numbers)))"
   ]
  },
  {
   "cell_type": "markdown",
   "id": "44b41a3d-fd2c-4b77-9aed-bdcdad341e53",
   "metadata": {},
   "source": [
    "Problem 11:\n",
    "\n",
    "Write a program, which will find all such numbers between 1000 and 3000 (both included) such that each digit of the number is an even number. The numbers obtained should be printed in a space-separated sequence on a single line.\n",
    "\n"
   ]
  },
  {
   "cell_type": "code",
   "execution_count": 11,
   "id": "900ab66d-fd24-472a-962a-72f68e90068c",
   "metadata": {},
   "outputs": [
    {
     "name": "stdout",
     "output_type": "stream",
     "text": [
      "2000 2002 2004 2006 2008 2020 2022 2024 2026 2028 2040 2042 2044 2046 2048 2060 2062 2064 2066 2068 2080 2082 2084 2086 2088 2200 2202 2204 2206 2208 2220 2222 2224 2226 2228 2240 2242 2244 2246 2248 2260 2262 2264 2266 2268 2280 2282 2284 2286 2288 2400 2402 2404 2406 2408 2420 2422 2424 2426 2428 2440 2442 2444 2446 2448 2460 2462 2464 2466 2468 2480 2482 2484 2486 2488 2600 2602 2604 2606 2608 2620 2622 2624 2626 2628 2640 2642 2644 2646 2648 2660 2662 2664 2666 2668 2680 2682 2684 2686 2688 2800 2802 2804 2806 2808 2820 2822 2824 2826 2828 2840 2842 2844 2846 2848 2860 2862 2864 2866 2868 2880 2882 2884 2886 2888\n"
     ]
    }
   ],
   "source": [
    "# Initialize an empty list to store the numbers\n",
    "result_numbers = []\n",
    "\n",
    "# Iterate through numbers from 1000 to 3000 (inclusive)\n",
    "for num in range(1000, 3001):\n",
    "    # Check if all digits are even\n",
    "    if all(int(digit) % 2 == 0 for digit in str(num)):\n",
    "        result_numbers.append(num)\n",
    "\n",
    "# Print the result as a space-separated sequence on a single line\n",
    "print(' '.join(map(str, result_numbers)))"
   ]
  },
  {
   "cell_type": "markdown",
   "id": "c0c7efb7-9cd8-45ef-a07a-f9f7e3e0ebfb",
   "metadata": {},
   "source": [
    "Problem 12: A robot moves in a plane starting from the original point (0,0). The robot can move toward UP, DOWN, LEFT and RIGHT with a given steps.\n",
    "\n"
   ]
  },
  {
   "cell_type": "code",
   "execution_count": 12,
   "id": "04d8bd81-83f9-4907-a72c-7aed6c080c2f",
   "metadata": {},
   "outputs": [
    {
     "name": "stdout",
     "output_type": "stream",
     "text": [
      "Final position of the robot after all movements is: (-1, 2)\n"
     ]
    }
   ],
   "source": [
    "# Initialize starting position\n",
    "x, y = 0, 0\n",
    "\n",
    "# Define movements\n",
    "moves = [\n",
    "    ('UP', 5),\n",
    "    ('DOWN', 3),\n",
    "    ('LEFT', 3),\n",
    "    ('RIGHT', 2)\n",
    "]\n",
    "\n",
    "# Iterate through each movement and update position\n",
    "for move, steps in moves:\n",
    "    if move == 'UP':\n",
    "        y += steps\n",
    "    elif move == 'DOWN':\n",
    "        y -= steps\n",
    "    elif move == 'LEFT':\n",
    "        x -= steps\n",
    "    elif move == 'RIGHT':\n",
    "        x += steps\n",
    "\n",
    "# Print the final position\n",
    "print(f\"Final position of the robot after all movements is: ({x}, {y})\")"
   ]
  },
  {
   "cell_type": "markdown",
   "id": "38f6cce9-a39c-45d9-95ef-165c67a0c1c0",
   "metadata": {},
   "source": [
    "Problem 13:\n",
    "\n",
    "Write a program to print whether a given number is a prime number or not"
   ]
  },
  {
   "cell_type": "code",
   "execution_count": 13,
   "id": "57743fb4-b4a1-4d1e-add2-6acb1e06bcbd",
   "metadata": {},
   "outputs": [
    {
     "name": "stdin",
     "output_type": "stream",
     "text": [
      "Enter a number to check if it's prime:  3\n"
     ]
    },
    {
     "name": "stdout",
     "output_type": "stream",
     "text": [
      "3 is a prime number.\n"
     ]
    }
   ],
   "source": [
    "def is_prime(num):\n",
    "    # Check if number is less than or equal to 1\n",
    "    if num <= 1:\n",
    "        return False\n",
    "    \n",
    "    # Check for factors from 2 to sqrt(num)\n",
    "    for i in range(2, int(num**0.5) + 1):\n",
    "        if num % i == 0:\n",
    "            return False\n",
    "    \n",
    "    return True\n",
    "\n",
    "# Example usage:\n",
    "number = int(input(\"Enter a number to check if it's prime: \"))\n",
    "\n",
    "if is_prime(number):\n",
    "    print(f\"{number} is a prime number.\")\n",
    "else:\n",
    "    print(f\"{number} is not a prime number.\")"
   ]
  },
  {
   "cell_type": "markdown",
   "id": "d8244770-94e4-4fe3-9274-0cef946d09e0",
   "metadata": {},
   "source": [
    "Problem 14:\n",
    "\n",
    "Print all the Armstrong numbers in a given range. Range will be provided by the user Armstrong number is a number that is equal to the sum of cubes of its digits. For example 0, 1, 153, 370, 371 and 407 are the Armstrong numbers.\n",
    "\n"
   ]
  },
  {
   "cell_type": "code",
   "execution_count": 14,
   "id": "63ee1582-63cf-4fd1-8986-67d9a01511ad",
   "metadata": {},
   "outputs": [
    {
     "name": "stdin",
     "output_type": "stream",
     "text": [
      "Enter the starting number of the range:  8\n",
      "Enter the ending number of the range:  4\n"
     ]
    },
    {
     "name": "stdout",
     "output_type": "stream",
     "text": [
      "No Armstrong numbers found in the range 8 to 4.\n"
     ]
    }
   ],
   "source": [
    "def is_armstrong_number(num):\n",
    "    # Convert number to string to iterate over digits\n",
    "    num_str = str(num)\n",
    "    num_digits = len(num_str)\n",
    "    \n",
    "    # Calculate the sum of cubes of its digits\n",
    "    sum_of_cubes = sum(int(digit) ** num_digits for digit in num_str)\n",
    "    \n",
    "    # Check if the number is equal to the sum of cubes of its digits\n",
    "    return num == sum_of_cubes\n",
    "\n",
    "def find_armstrong_numbers(start, end):\n",
    "    armstrong_numbers = []\n",
    "    for num in range(start, end + 1):\n",
    "        if is_armstrong_number(num):\n",
    "            armstrong_numbers.append(num)\n",
    "    return armstrong_numbers\n",
    "\n",
    "# Get range from user\n",
    "start = int(input(\"Enter the starting number of the range: \"))\n",
    "end = int(input(\"Enter the ending number of the range: \"))\n",
    "\n",
    "# Find and print Armstrong numbers in the specified range\n",
    "result = find_armstrong_numbers(start, end)\n",
    "if result:\n",
    "    print(f\"Armstrong numbers in the range {start} to {end}:\")\n",
    "    print(', '.join(map(str, result)))\n",
    "else:\n",
    "    print(f\"No Armstrong numbers found in the range {start} to {end}.\")"
   ]
  },
  {
   "cell_type": "markdown",
   "id": "2c88c392-0945-4fc7-aad4-b272901f3875",
   "metadata": {},
   "source": [
    "Problem 15:\n",
    "\n",
    "Calculate the angle between the hour hand and minute hand. Note: There can be two angles between hands; we need to print a minimum of two. Also, we need to print the floor of the final result angle. For example, if the final angle is 10.61, we need to print 10.\n",
    "\n",
    "Input: H = 9 , M = 0 Output: 90 Explanation: The minimum angle between hour and minute hand when the time is 9 is 90 degress.\n",
    "\n"
   ]
  },
  {
   "cell_type": "code",
   "execution_count": 15,
   "id": "b01941ee-3af3-485b-9a2e-06c7bf1dba94",
   "metadata": {},
   "outputs": [
    {
     "name": "stdout",
     "output_type": "stream",
     "text": [
      "90\n"
     ]
    }
   ],
   "source": [
    "H = 9\n",
    "M = 0\n",
    "hour_angle = (H % 12) * 30 + (M * 0.5)\n",
    "minute_angle = M * 6\n",
    "angle_difference = abs(hour_angle - minute_angle)\n",
    "smaller_angle = min(angle_difference, 360 - angle_difference)\n",
    "result = int(smaller_angle)\n",
    "print(result)"
   ]
  },
  {
   "cell_type": "markdown",
   "id": "2d9ff3ae-0784-4674-b7f5-1683c2b82294",
   "metadata": {},
   "source": [
    "Problem 16:\n",
    "\n",
    "Given two rectangles, find if the given two rectangles overlap or not. A rectangle is denoted by providing the x and y coordinates of two points: the left top corner and the right bottom corner of the rectangle. Two rectangles sharing a side are considered overlapping. (L1 and R1 are the extreme points of the first rectangle and L2 and R2 are the extreme points of the second rectangle). Note: It may be assumed that the rectangles are parallel to the coordinate axis."
   ]
  },
  {
   "cell_type": "code",
   "execution_count": 16,
   "id": "eb188492-9442-4b56-8fc1-77c76d875741",
   "metadata": {},
   "outputs": [
    {
     "name": "stdout",
     "output_type": "stream",
     "text": [
      "True\n"
     ]
    }
   ],
   "source": [
    "x1, y1 = 0, 10\n",
    "x2, y2 =10, 0\n",
    "\n",
    "x3, y3 = 5, 5\n",
    "x4, y4 =15, -5\n",
    "\n",
    "if(x2 < x3 or x4 < x1 or y2 > y3 or y4 > y1):\n",
    "    overlap = False\n",
    "else:\n",
    "    overlap = True\n",
    "\n",
    "print(overlap)"
   ]
  }
 ],
 "metadata": {
  "kernelspec": {
   "display_name": "Python 3 (ipykernel)",
   "language": "python",
   "name": "python3"
  },
  "language_info": {
   "codemirror_mode": {
    "name": "ipython",
    "version": 3
   },
   "file_extension": ".py",
   "mimetype": "text/x-python",
   "name": "python",
   "nbconvert_exporter": "python",
   "pygments_lexer": "ipython3",
   "version": "3.11.7"
  }
 },
 "nbformat": 4,
 "nbformat_minor": 5
}

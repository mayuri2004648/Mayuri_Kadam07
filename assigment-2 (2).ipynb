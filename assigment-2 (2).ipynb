{
 "cells": [
  {
   "cell_type": "markdown",
   "id": "bdcc0763-9274-48ac-9f7e-f38ebe3051cf",
   "metadata": {},
   "source": [
    "Problem 1 - Print the following pattern. Write a program to use for loop to print the following reverse number pattern.\n",
    "5 4 3 2 1 \n",
    "4 3 2 1 \n",
    "3 2 1 \n",
    "2 1 \n",
    "1\n"
   ]
  },
  {
   "cell_type": "code",
   "execution_count": 1,
   "id": "8749a3eb-2e2e-4b72-9914-25bfd29230eb",
   "metadata": {},
   "outputs": [
    {
     "name": "stdout",
     "output_type": "stream",
     "text": [
      "5 4 3 2 1 \n",
      "4 3 2 1 \n",
      "3 2 1 \n",
      "2 1 \n",
      "1 \n"
     ]
    }
   ],
   "source": [
    "for r in range(5, 0, -1):\n",
    "    for c in range(r, 0, -1):\n",
    "        print(c ,end=' ')\n",
    "    print()"
   ]
  },
  {
   "cell_type": "markdown",
   "id": "9f2798a7-136b-4b21-b540-a34cfa351196",
   "metadata": {},
   "source": [
    "Problem 2: Print the following pattern.\n"
   ]
  },
  {
   "cell_type": "code",
   "execution_count": 2,
   "id": "855298ac-d9c1-4979-8387-2615c4a382da",
   "metadata": {},
   "outputs": [
    {
     "name": "stdout",
     "output_type": "stream",
     "text": [
      "* \n",
      "* * \n",
      "* * * \n",
      "* * * * \n",
      "* * * * * \n",
      "* * * * * * * * * * \n"
     ]
    }
   ],
   "source": [
    "rows = 5\n",
    "for i in range(0, rows):\n",
    "    for j in range(0, i + 1):\n",
    "        print(\"*\", end=' ')\n",
    "    print(\"\\r\")\n",
    "\n",
    "for i in range(rows, 0, -1):\n",
    "    for j in range(0, i - 1):\n",
    "        print(\"*\", end=' ')\n",
    "print(\"\\r\")"
   ]
  },
  {
   "cell_type": "markdown",
   "id": "05ed8c54-8be9-4574-a5c8-6daebf443987",
   "metadata": {},
   "source": [
    "Problem 3:Write a program to pring the following pattern\n",
    "\n"
   ]
  },
  {
   "cell_type": "code",
   "execution_count": 3,
   "id": "0c6df026-9bef-47f9-b642-03f7ab3a7d9d",
   "metadata": {},
   "outputs": [
    {
     "name": "stdout",
     "output_type": "stream",
     "text": [
      "    * \n",
      "  * * * \n",
      "* * * * * \n"
     ]
    }
   ],
   "source": [
    "def full_pyramid(n):\n",
    "    for i in range(1, n+1):\n",
    "        for j in range(n -i):\n",
    "            print(\" \", end=\" \")\n",
    "\n",
    "        for k in range(1, 2*i):\n",
    "            print(\"*\", end=\" \")\n",
    "        print()\n",
    "full_pyramid(3)"
   ]
  },
  {
   "cell_type": "markdown",
   "id": "ec672492-c862-40ea-8d46-ff149b73fdbd",
   "metadata": {},
   "source": [
    "Problem 4:Write a program to print the following pattern\n",
    "1\n",
    "\n",
    "2 1\n",
    "\n",
    "3 2 1\n",
    "\n",
    "4 3 2 1\n",
    "\n",
    "5 4 3 2 1\n",
    "\n"
   ]
  },
  {
   "cell_type": "code",
   "execution_count": 1,
   "id": "1b203d9c-c012-4f45-acde-f24dd969831b",
   "metadata": {},
   "outputs": [
    {
     "name": "stdout",
     "output_type": "stream",
     "text": [
      "1  \n",
      "2  1  \n",
      "3  2  1  \n",
      "4  3  2  1  \n",
      "5  4  3  2  1  \n"
     ]
    }
   ],
   "source": [
    "def print_pattern(n):\n",
    "    for i in range(1, n+1):\n",
    "        for j in range(i, 0, -1):\n",
    "            print(j, end=\"  \")\n",
    "        print()\n",
    "\n",
    "# Set the value of n\n",
    "n = 5\n",
    "print_pattern(n)"
   ]
  },
  {
   "cell_type": "markdown",
   "id": "dab7900e-23e1-40f3-8002-ff748e0d004f",
   "metadata": {},
   "source": [
    "Problem 5: Write a Python Program to Find the Sum of the Series till the nth term:\n",
    "1 + x^2/2 + x^3/3 + … x^n/n\n",
    "n will be provided by the user\n",
    "\n"
   ]
  },
  {
   "cell_type": "code",
   "execution_count": 2,
   "id": "f6d219d8-7af4-4b13-bca8-318c55a1b47c",
   "metadata": {},
   "outputs": [
    {
     "name": "stdin",
     "output_type": "stream",
     "text": [
      "Enter the value of x:  9\n",
      "Enter the value of n:  4\n"
     ]
    },
    {
     "name": "stdout",
     "output_type": "stream",
     "text": [
      "The sum of the series till the 4th term is: 1924.75\n"
     ]
    }
   ],
   "source": [
    "def sum_of_series(x, n):\n",
    "    series_sum = 1  # The first term of the series is always 1\n",
    "    for i in range(2, n + 1):\n",
    "        term = (x ** i) / i\n",
    "        series_sum += term\n",
    "    return series_sum\n",
    "\n",
    "# Input values\n",
    "x = float(input(\"Enter the value of x: \"))\n",
    "n = int(input(\"Enter the value of n: \"))\n",
    "\n",
    "# Calculating the sum of the series\n",
    "result = sum_of_series(x, n)\n",
    "\n",
    "# Printing the result\n",
    "print(f\"The sum of the series till the {n}th term is: {result}\")"
   ]
  },
  {
   "cell_type": "markdown",
   "id": "8fd96855-18aa-4355-b852-2f692a260e26",
   "metadata": {},
   "source": [
    "Problem 6: The natural logarithm can be approximated by the following series.\n",
    "temp.jpg\n",
    "\n",
    "If x is input through the keyboard, write a program to calculate the sum of the first seven terms of this series.\n",
    "\n"
   ]
  },
  {
   "cell_type": "code",
   "execution_count": null,
   "id": "b9869ed7-17e3-486f-ba25-2edcce6f9e17",
   "metadata": {},
   "outputs": [
    {
     "name": "stdin",
     "output_type": "stream",
     "text": [
      "Enter the value of x:  10\n"
     ]
    }
   ],
   "source": [
    "def ln_approximation(x):\n",
    "    terms = 7  # number of terms to compute\n",
    "    ln_approx = 0  # initialize the approximation sum\n",
    "    for n in range(1, terms + 1):\n",
    "        term = ((-1) ** (n + 1)) * (x ** n) / n  # compute the n-th term\n",
    "        ln_approx += term  # add the n-th term to the sum\n",
    "    return ln_approx\n",
    "\n",
    "# Input the value of x\n",
    "x = float(input(\"Enter the value of x: \"))\n",
    "result = ln_approximation(x)\n",
    "print(f\"The approximation of ln(1 + {x}) using the first 7 terms is: {result}\")"
   ]
  },
  {
   "cell_type": "markdown",
   "id": "ee86f3d6-e462-4965-9e00-67ee353e31fc",
   "metadata": {},
   "source": [
    "Problem 7 - Find the sum of the series upto n terms.\n",
    "Write a program to calculate the sum of series up to n term. For example, if n =5 the series will become 2 + 22 + 222 + 2222 + 22222 = 24690. Take the user input and then calculate. And the output style should match which is given in the example.\n",
    "\n",
    "Example 1:\n",
    "\n",
    "Input:\n",
    "\n",
    "5\n",
    "Output:\n",
    "\n",
    "2+22+222+2222+22222\n",
    "Sum of above series is: 24690\n"
   ]
  },
  {
   "cell_type": "code",
   "execution_count": null,
   "id": "62d74edd-d961-4da3-8781-71be082c2caf",
   "metadata": {},
   "outputs": [
    {
     "name": "stdin",
     "output_type": "stream",
     "text": [
      "Enter the number of terms (n):  7\n"
     ]
    }
   ],
   "source": [
    "def sum_of_series(n):\n",
    "    series = []  # to store each term of the series\n",
    "    current_number = 0  # initialize the current number to be added to the series\n",
    "    total_sum = 0  # initialize the sum of the series\n",
    "    \n",
    "    for i in range(1, n + 1):\n",
    "        current_number = current_number * 10 + 2  # form the current number\n",
    "        series.append(current_number)  # add the current number to the series\n",
    "        total_sum += current_number  # add the current number to the total sum\n",
    "    \n",
    "    # Format the output\n",
    "    series_str = '+'.join(map(str, series))\n",
    "    print(series_str)\n",
    "    print(f\"Sum of above series is: {total_sum}\")\n",
    "\n",
    "# Input the value of n\n",
    "n = int(input(\"Enter the number of terms (n): \"))\n",
    "sum_of_series(n)"
   ]
  },
  {
   "cell_type": "markdown",
   "id": "e5cfd3ff-c3b5-4e8b-85d6-2438ce1f6a1e",
   "metadata": {},
   "source": [
    "Problem 8: Write a program to print all the unique combinations of 1,2,3 and 4\n",
    "Output:\n",
    "\n",
    "1 2 3 4\n",
    "1 2 4 3\n",
    "1 3 2 4\n",
    "1 3 4 2\n",
    "1 4 2 3\n",
    "1 4 3 2\n",
    "2 1 3 4\n",
    "2 1 4 3\n",
    "2 3 1 4\n",
    "2 3 4 1\n",
    "2 4 1 3\n",
    ".\n"
   ]
  },
  {
   "cell_type": "code",
   "execution_count": 1,
   "id": "21f36a67-5afe-445c-a816-2ffac5b4d1b2",
   "metadata": {},
   "outputs": [
    {
     "name": "stdout",
     "output_type": "stream",
     "text": [
      "1 2 3 4\n",
      "1 2 4 3\n",
      "1 3 2 4\n",
      "1 3 4 2\n",
      "1 4 2 3\n",
      "1 4 3 2\n",
      "2 1 3 4\n",
      "2 1 4 3\n",
      "2 3 1 4\n",
      "2 3 4 1\n",
      "2 4 1 3\n",
      "2 4 3 1\n",
      "3 1 2 4\n",
      "3 1 4 2\n",
      "3 2 1 4\n",
      "3 2 4 1\n",
      "3 4 1 2\n",
      "3 4 2 1\n",
      "4 1 2 3\n",
      "4 1 3 2\n",
      "4 2 1 3\n",
      "4 2 3 1\n",
      "4 3 1 2\n",
      "4 3 2 1\n"
     ]
    }
   ],
   "source": [
    "import itertools\n",
    "\n",
    "numbers = [1, 2, 3, 4]\n",
    "\n",
    "# Generate all permutations\n",
    "permutations = itertools.permutations(numbers)\n",
    "\n",
    "# Print each permutation\n",
    "for perm in permutations:\n",
    "    print(\" \".join(map(str, perm)))"
   ]
  },
  {
   "cell_type": "markdown",
   "id": "1b40432d-6ef5-4114-ac4a-873e7280fcba",
   "metadata": {},
   "source": [
    "Problem 9: Write a program that will take a decimal number as input and prints out the binary equivalent of the number\n"
   ]
  },
  {
   "cell_type": "code",
   "execution_count": null,
   "id": "7cec5488-077e-448d-8b70-01d6e4710c49",
   "metadata": {},
   "outputs": [
    {
     "name": "stdin",
     "output_type": "stream",
     "text": [
      "Enter a decimal number:  4\n"
     ]
    }
   ],
   "source": [
    "def decimal_to_binary(decimal_number):\n",
    "    if decimal_number == 0:\n",
    "        return \"0\"\n",
    "    binary_number = \"\"\n",
    "    while decimal_number > 0:\n",
    "        remainder = decimal_number % 2\n",
    "        binary_number = str(remainder) + binary_number\n",
    "        decimal_number = decimal_number // 2\n",
    "    return binary_number\n",
    "\n",
    "# Take user input\n",
    "decimal_number = int(input(\"Enter a decimal number: \"))\n",
    "binary_number = decimal_to_binary(decimal_number)\n",
    "print(f\"The binary equivalent of {decimal_number} is {binary_number}\")"
   ]
  },
  {
   "cell_type": "markdown",
   "id": "048c9f23-4ac6-4ee8-9905-4d4fc9cdfb4a",
   "metadata": {},
   "source": [
    "Problem 10: Write a program that will take 2 numbers as input and prints the LCM and HCF of those 2 numbers\n"
   ]
  },
  {
   "cell_type": "code",
   "execution_count": null,
   "id": "5adc47a6-37b2-48ed-8779-8f3600d3bc33",
   "metadata": {},
   "outputs": [
    {
     "name": "stdin",
     "output_type": "stream",
     "text": [
      "Enter first number:  5\n"
     ]
    }
   ],
   "source": [
    "def calculate_hcf(x, y):\n",
    "    while y:\n",
    "        x, y = y, x % y\n",
    "    return x\n",
    "\n",
    "def calculate_lcm(x, y):\n",
    "    lcm = (x * y) // calculate_hcf(x, y)\n",
    "    return lcm\n",
    "\n",
    "# Take user input\n",
    "num1 = int(input(\"Enter first number: \"))\n",
    "num2 = int(input(\"Enter second number: \"))\n",
    "\n",
    "# Calculate HCF and LCM\n",
    "hcf = calculate_hcf(num1, num2)\n",
    "lcm = calculate_lcm(num1, num2)\n",
    "\n",
    "# Print results\n",
    "print(f\"The HCF of {num1} and {num2} is: {hcf}\")\n",
    "print(f\"The LCM of {num1} and {num2} is: {lcm}\")"
   ]
  },
  {
   "cell_type": "markdown",
   "id": "c439901c-f949-400f-8260-da2ae012c34a",
   "metadata": {},
   "source": [
    "bold text### Problem 11: Create Short Form from initial character Given a string create short form ofthe string from Initial character. Short form should be capitalised.\n",
    "\n",
    "Example:\n",
    "\n",
    "Input:\n",
    "\n",
    "Data science mentorship program\n",
    "Output:\n",
    "\n",
    "DSMP\n"
   ]
  },
  {
   "cell_type": "code",
   "execution_count": 3,
   "id": "1ac6c7ef-4135-4b27-933d-ab7ff2e3e8bb",
   "metadata": {},
   "outputs": [
    {
     "name": "stdout",
     "output_type": "stream",
     "text": [
      "DSMP\n"
     ]
    }
   ],
   "source": [
    "def create_short_form(sentence):\n",
    "    # Split the sentence into words\n",
    "    words = sentence.split()\n",
    "    \n",
    "    # Extract the initial character from each word and capitalize it\n",
    "    short_form = ''.join(word[0].upper() for word in words)\n",
    "    \n",
    "    return short_form\n",
    "\n",
    "# Example usage:\n",
    "input_string = \"Data science mentorship program\"\n",
    "output_short_form = create_short_form(input_string)\n",
    "print(output_short_form)  # Output: DSMP"
   ]
  },
  {
   "cell_type": "markdown",
   "id": "ec8578ed-fa67-46b3-ab53-8459130da1dc",
   "metadata": {},
   "source": [
    "Problem 12: Append second string in the middle of first string\n",
    "Input:\n",
    "\n",
    "campusx\n",
    "data\n",
    "Output:\n",
    "\n",
    "camdatapusx\n"
   ]
  },
  {
   "cell_type": "code",
   "execution_count": 5,
   "id": "e05d1d49-c5b3-4134-b36d-41f5b42d01f6",
   "metadata": {},
   "outputs": [
    {
     "name": "stdout",
     "output_type": "stream",
     "text": [
      "camdatapusx\n"
     ]
    }
   ],
   "source": [
    "def append_in_middle(first_string, second_string):\n",
    "    # Find the middle index of the first string\n",
    "    middle_index = len(first_string) // 2\n",
    "    \n",
    "    # Insert the second string at the middle index of the first string\n",
    "    result = first_string[:middle_index] + second_string + first_string[middle_index:]\n",
    "    \n",
    "    return result\n",
    "\n",
    "# Example usage:\n",
    "input_string1 = \"campusx\"\n",
    "input_string2 = \"data\"\n",
    "output_string = append_in_middle(input_string1, input_string2)\n",
    "print(output_string)  # Output: camdatapus"
   ]
  },
  {
   "cell_type": "markdown",
   "id": "82fb9b84-f6e2-437b-8f38-246a51228583",
   "metadata": {},
   "source": [
    "Problem 13:Given string contains a combination of the lower and upper case letters. Write a program to arrange the characters of a string so that all lowercase letters should come first.\n",
    "Given:\n",
    "\n",
    "str1 = PyNaTive\n",
    "\n",
    "Expected Output:\n",
    "\n",
    "yaivePNT\n",
    "\n"
   ]
  },
  {
   "cell_type": "code",
   "execution_count": 6,
   "id": "04a35c7c-bad3-4bcb-a571-9e44cc957fdc",
   "metadata": {},
   "outputs": [
    {
     "name": "stdout",
     "output_type": "stream",
     "text": [
      "Original string: PyNaTive\n",
      "Arranged string with lowercase first: yaivePNT\n"
     ]
    }
   ],
   "source": [
    "def arrange_lowercase_first(input_str):\n",
    "    lower_chars = []\n",
    "    upper_chars = []\n",
    "    \n",
    "    for char in input_str:\n",
    "        if char.islower():\n",
    "            lower_chars.append(char)\n",
    "        elif char.isupper():\n",
    "            upper_chars.append(char)\n",
    "        # Ignore any other characters like digits or special symbols\n",
    "    \n",
    "    arranged_str = ''.join(lower_chars + upper_chars)\n",
    "    return arranged_str\n",
    "\n",
    "# Example usage:\n",
    "str1 = \"PyNaTive\"\n",
    "arranged_str = arrange_lowercase_first(str1)\n",
    "print(\"Original string:\", str1)\n",
    "print(\"Arranged string with lowercase first:\", arranged_str)"
   ]
  },
  {
   "cell_type": "markdown",
   "id": "557544e6-be1b-43f9-9dc7-52db32d81667",
   "metadata": {},
   "source": [
    "Problem 14:Take a alphanumeric string input and print the sum and average of the digits that appear in the string, ignoring all other characters.\n",
    "Input:\n",
    "\n",
    "hel123O4every093\n",
    "\n",
    "Output:\n",
    "\n",
    "Sum: 22\n",
    "Avg: 2.75\n"
   ]
  },
  {
   "cell_type": "code",
   "execution_count": 1,
   "id": "be3aeb25-6740-42b1-b801-70a7426988b3",
   "metadata": {},
   "outputs": [
    {
     "name": "stdout",
     "output_type": "stream",
     "text": [
      "Sum: 22\n",
      "Avg: 3.142857142857143\n"
     ]
    }
   ],
   "source": [
    "def sum_and_average_of_digits(input_string):\n",
    "    # Initialize variables to store sum and count of digits\n",
    "    digit_sum = 0\n",
    "    digit_count = 0\n",
    "\n",
    "    # Iterate through each character in the string\n",
    "    for char in input_string:\n",
    "        # Check if the character is a digit\n",
    "        if char.isdigit():\n",
    "            # Convert the character to integer and add to sum\n",
    "            digit_sum += int(char)\n",
    "            # Increment the count of digits\n",
    "            digit_count += 1\n",
    "    \n",
    "    # Calculate average\n",
    "    if digit_count > 0:\n",
    "        average = digit_sum / digit_count\n",
    "    else:\n",
    "        average = 0  # If no digits found, average is 0 (or could be None/undefined as per requirements)\n",
    "\n",
    "    # Print the results\n",
    "    print(\"Sum:\", digit_sum)\n",
    "    print(\"Avg:\", average)\n",
    "\n",
    "# Example usage:\n",
    "input_string = \"hel123O4every093\"\n",
    "sum_and_average_of_digits(input_string)"
   ]
  },
  {
   "cell_type": "markdown",
   "id": "5c64e088-5927-4311-90f8-3568a916873b",
   "metadata": {},
   "source": [
    "Problem 15: Removal of all characters from a string except integers\n",
    "Given:\n",
    "\n",
    "str1 = 'I am 25 years and 10 months old'\n",
    "Expected Output:\n",
    "\n"
   ]
  },
  {
   "cell_type": "code",
   "execution_count": 2,
   "id": "eb49708d-2957-4ccc-a147-8300fd24b00a",
   "metadata": {},
   "outputs": [
    {
     "name": "stdout",
     "output_type": "stream",
     "text": [
      "Expected Output: 2510\n"
     ]
    }
   ],
   "source": [
    "def remove_non_digits(input_string):\n",
    "    # Use a list comprehension to filter out non-digit characters\n",
    "    digits_only = ''.join([char for char in input_string if char.isdigit()])\n",
    "    return digits_only\n",
    "\n",
    "# Example usage:\n",
    "str1 = 'I am 25 years and 10 months old'\n",
    "result = remove_non_digits(str1)\n",
    "print(\"Expected Output:\", result)"
   ]
  },
  {
   "cell_type": "markdown",
   "id": "c9112a68-3f76-4452-a585-4f81ff632760",
   "metadata": {},
   "source": [
    "Problem 16: Check whether the string is Symmetrical.\n",
    "Statement: Given a string. the task is to check if the string is symmetrical or not. A string is said to be symmetrical if both the halves of the string are the same.\n",
    "\n",
    "Example 1:\n",
    "\n",
    "Input\n",
    "\n",
    "khokho\n",
    "Output\n",
    "\n",
    "The entered string is symmetrical\n"
   ]
  },
  {
   "cell_type": "code",
   "execution_count": 11,
   "id": "1ee617e3-3bdd-498a-88e9-70996eb2f213",
   "metadata": {},
   "outputs": [
    {
     "name": "stdout",
     "output_type": "stream",
     "text": [
      "khokho is not symmetrical.\n"
     ]
    }
   ],
   "source": [
    "def is_symmetrical(s):\n",
    "    n = len(s)\n",
    "    if n % 2 == 0:\n",
    "        # Even-length string\n",
    "        return s[:n//2] == s[n//2:][::-1]\n",
    "    else:\n",
    "        # Odd-length string\n",
    "        return s[:n//2] == s[n//2+1:][::-1]\n",
    "\n",
    "# Example usage:\n",
    "input_string = \"khokho\"\n",
    "if is_symmetrical(input_string):\n",
    "    print(f\"{input_string} is symmetrical.\")\n",
    "else:\n",
    "    print(f\"{input_string} is not symmetrical.\")"
   ]
  },
  {
   "cell_type": "markdown",
   "id": "d94886a8-0f3e-47d4-a773-60efc554bd29",
   "metadata": {},
   "source": [
    "`Problem 17`: Reverse words in a given String\n"
   ]
  },
  {
   "cell_type": "code",
   "execution_count": 12,
   "id": "e51afd57-a233-4526-b806-9c04535cffc6",
   "metadata": {},
   "outputs": [
    {
     "name": "stdout",
     "output_type": "stream",
     "text": [
      "Input:\n",
      " geeks quiz practice code\n",
      "Output:\n",
      " code practice quiz geeks\n"
     ]
    }
   ],
   "source": [
    "def reverse_words(input_string):\n",
    "    # Split the input string into words based on spaces\n",
    "    words = input_string.split()\n",
    "    \n",
    "    # Reverse the list of words\n",
    "    reversed_words = words[::-1]\n",
    "    \n",
    "    # Join the reversed words into a single string with spaces in between\n",
    "    reversed_string = ' '.join(reversed_words)\n",
    "    \n",
    "    return reversed_string\n",
    "\n",
    "# Example usage:\n",
    "input_string = \"geeks quiz practice code\"\n",
    "output_string = reverse_words(input_string)\n",
    "print(\"Input:\\n\", input_string)\n",
    "print(\"Output:\\n\", output_string)"
   ]
  },
  {
   "cell_type": "markdown",
   "id": "5b58325a-5eb7-4941-b93f-032335b5284a",
   "metadata": {},
   "source": [
    "Problem 18: Find uncommon words from two Strings.\n",
    "\n",
    "Statement: Given two sentences as strings A and B. The task is to return a list of all uncommon words. A word is uncommon if it appears exactly once in any one of the sentences, and does not appear in the other sentence. Note: A sentence is a string of space-separated words. Each word consists only of lowercase letters.\n",
    "\n",
    "Example 1:\n",
    "\n",
    "Input:\n",
    "\n",
    "A = \"apple banana mango\" \n",
    "B = \"banana fruits mango\"\n",
    "Output:\n",
    "\n"
   ]
  },
  {
   "cell_type": "code",
   "execution_count": 3,
   "id": "fac72b1c-a4d8-4696-9130-ae44d9e3e603",
   "metadata": {},
   "outputs": [
    {
     "name": "stdout",
     "output_type": "stream",
     "text": [
      "Uncommon words: ['apple', 'fruits']\n"
     ]
    }
   ],
   "source": [
    "def find_uncommon_words(sentenceA, sentenceB):\n",
    "    # Split sentences into words\n",
    "    wordsA = sentenceA.split()\n",
    "    wordsB = sentenceB.split()\n",
    "    \n",
    "    # Count frequencies of words in each sentence\n",
    "    freqA = {}\n",
    "    freqB = {}\n",
    "    \n",
    "    for word in wordsA:\n",
    "        freqA[word] = freqA.get(word, 0) + 1\n",
    "    \n",
    "    for word in wordsB:\n",
    "        freqB[word] = freqB.get(word, 0) + 1\n",
    "    \n",
    "    # Find uncommon words\n",
    "    uncommon_words = []\n",
    "    \n",
    "    # Check words in sentence A\n",
    "    for word in freqA:\n",
    "        if freqA[word] == 1 and word not in freqB:\n",
    "            uncommon_words.append(word)\n",
    "    \n",
    "    # Check words in sentence B\n",
    "    for word in freqB:\n",
    "        if freqB[word] == 1 and word not in freqA:\n",
    "            uncommon_words.append(word)\n",
    "    \n",
    "    return uncommon_words\n",
    "\n",
    "# Example usage:\n",
    "sentenceA = \"apple banana mango\"\n",
    "sentenceB = \"banana fruits mango\"\n",
    "result = find_uncommon_words(sentenceA, sentenceB)\n",
    "print(\"Uncommon words:\", result)"
   ]
  },
  {
   "cell_type": "markdown",
   "id": "2f96c8a3-3e27-4ae4-872e-723e42d98abf",
   "metadata": {},
   "source": [
    "Problem 19: Word location in String.\n",
    "Statement: Find a location of a word in a given sentence.\n",
    "\n",
    "Example 1:\n",
    "\n",
    "Input:\n",
    "\n",
    "Sentence: We can learn data science through campusx mentorship program.\n",
    "\n",
    "word: campusx\n",
    "Output:\n",
    "\n",
    "Location of the word is 7."
   ]
  },
  {
   "cell_type": "code",
   "execution_count": 4,
   "id": "b7beb144-60ca-45ed-a926-cb17924440ef",
   "metadata": {},
   "outputs": [
    {
     "name": "stdout",
     "output_type": "stream",
     "text": [
      "Location of the word 'campusx' in the sentence: 34\n"
     ]
    }
   ],
   "source": [
    "def find_word_location(sentence, word):\n",
    "    # Using find() to get the index of the word\n",
    "    index = sentence.find(word)\n",
    "    return index\n",
    "\n",
    "# Example usage:\n",
    "sentence = \"We can learn data science through campusx mentorship program.\"\n",
    "word = \"campusx\"\n",
    "location = find_word_location(sentence, word)\n",
    "\n",
    "print(\"Location of the word '{}' in the sentence:\".format(word), location)"
   ]
  },
  {
   "cell_type": "markdown",
   "id": "6d1758f8-ac39-4735-9f61-7d9ea14ba551",
   "metadata": {},
   "source": [
    "Problem 20: Write a program that can remove all the duplicate characters from a string. User will provide the input.\n"
   ]
  },
  {
   "cell_type": "code",
   "execution_count": 5,
   "id": "34ba13d0-15eb-4bb4-9dd3-5022015d5553",
   "metadata": {},
   "outputs": [
    {
     "name": "stdin",
     "output_type": "stream",
     "text": [
      "Enter a string:  10\n"
     ]
    },
    {
     "name": "stdout",
     "output_type": "stream",
     "text": [
      "String after removing duplicates: 01\n"
     ]
    }
   ],
   "source": [
    "def remove_duplicates(input_string):\n",
    "    # Convert string to set to remove duplicates\n",
    "    unique_characters = set(input_string)\n",
    "    \n",
    "    # Join the set back into a string\n",
    "    result_string = ''.join(unique_characters)\n",
    "    \n",
    "    return result_string\n",
    "\n",
    "# Example usage:\n",
    "input_string = input(\"Enter a string: \")\n",
    "result = remove_duplicates(input_string)\n",
    "print(\"String after removing duplicates:\", result)"
   ]
  },
  {
   "cell_type": "code",
   "execution_count": null,
   "id": "1889796f-0198-49d1-9385-bb8aeb1a9a18",
   "metadata": {},
   "outputs": [],
   "source": []
  }
 ],
 "metadata": {
  "kernelspec": {
   "display_name": "Python 3 (ipykernel)",
   "language": "python",
   "name": "python3"
  },
  "language_info": {
   "codemirror_mode": {
    "name": "ipython",
    "version": 3
   },
   "file_extension": ".py",
   "mimetype": "text/x-python",
   "name": "python",
   "nbconvert_exporter": "python",
   "pygments_lexer": "ipython3",
   "version": "3.11.7"
  }
 },
 "nbformat": 4,
 "nbformat_minor": 5
}

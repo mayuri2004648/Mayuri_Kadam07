{
 "cells": [
  {
   "cell_type": "code",
   "execution_count": 7,
   "id": "13f4892e-aa56-4e8f-bfb5-37ce48585510",
   "metadata": {},
   "outputs": [
    {
     "name": "stdout",
     "output_type": "stream",
     "text": [
      "L:  [1, 2, 3, 4, 5, 6]\n",
      "List of Even number:  [2, 4, 6]\n",
      "List of odd number:  [1, 3, 5]\n"
     ]
    }
   ],
   "source": [
    "## Q.1\n",
    "## create 2 lists from a given list where\n",
    "## 1st list will contain all the odd numbers from original list and\n",
    "## the 2nd one will contain all the even numbers\n",
    "## L=[1,2,3,4,5,6]\n",
    "L=[1,2,3,4,5,6]\n",
    "lOdd=[]\n",
    "lEven=[]\n",
    "for n in L:\n",
    "    if n%2==0:\n",
    "        lEven.append(n)\n",
    "    else:\n",
    "        lOdd.append(n)\n",
    "print(\"L: \",L)\n",
    "print(\"List of Even number: \",lEven)\n",
    "print(\"List of odd number: \",lOdd)"
   ]
  },
  {
   "cell_type": "code",
   "execution_count": 1,
   "id": "beda00d9-551d-4366-86ba-0035c2255d4e",
   "metadata": {},
   "outputs": [
    {
     "name": "stdin",
     "output_type": "stream",
     "text": [
      "Enter number of elements : 4\n",
      " 1\n",
      " 2\n",
      " 3\n",
      " 4\n"
     ]
    },
    {
     "name": "stdout",
     "output_type": "stream",
     "text": [
      "[1, 2, 3, 4]\n"
     ]
    }
   ],
   "source": [
    "## Q.2\n",
    "## how to take List as input from user\n",
    "list=[]\n",
    "n=int(input(\"Enter number of elements :\"))\n",
    "for i in range (0,n):\n",
    "    element=int(input())\n",
    "    list.append(element)\n",
    "print(list)"
   ]
  },
  {
   "cell_type": "code",
   "execution_count": 2,
   "id": "3216bf51-ca93-4045-847d-187238da6903",
   "metadata": {},
   "outputs": [
    {
     "name": "stdout",
     "output_type": "stream",
     "text": [
      "List after merged : [1, 2, 3, 4, 5, 6, 7, 8]\n"
     ]
    }
   ],
   "source": [
    "## Q.3\n",
    "## write a program to merge 2 list without using the + operator\n",
    "## L1=[1,2,3,4]\n",
    "## L2=[5,6,7,8]\n",
    "L1=[1,2,3,4]\n",
    "L2=[5,6,7,8]\n",
    "for x in L2:\n",
    "    L1.append(x)\n",
    "print(\"List after merged :\",L1)"
   ]
  },
  {
   "cell_type": "code",
   "execution_count": 4,
   "id": "289f1416-3f6e-4527-b904-f52bf8a17858",
   "metadata": {},
   "outputs": [
    {
     "name": "stdout",
     "output_type": "stream",
     "text": [
      "[1, 2, 300, 4, 5, 300]\n"
     ]
    }
   ],
   "source": [
    "## Q.4\n",
    "## write a program to replace an item with a different item if found in the list\n",
    "## L=[1,2,3,4,5,3]\n",
    "## replace 3 with 300\n",
    "L=[1,2,3,4,5,3]\n",
    "for i in range(len(L)):\n",
    "    if L[i]==3:\n",
    "       L[i]=300\n",
    "print(L)"
   ]
  },
  {
   "cell_type": "code",
   "execution_count": 6,
   "id": "a4180193-44ed-4161-b2e2-000412a5fad8",
   "metadata": {},
   "outputs": [
    {
     "name": "stdout",
     "output_type": "stream",
     "text": [
      "The 2D list [[1 2 3]\n",
      " [2 4 5]\n",
      " [1 2 3]]\n",
      "The 1D list: [1 2 3 2 4 5 1 2 3]\n"
     ]
    }
   ],
   "source": [
    "## Q.5\n",
    "## write a program that can convert a 2D list to 1D list\n",
    "import numpy as np\n",
    "list1=np.array([[1,2,3],[2,4,5],[1,2,3]])\n",
    "print(\"The 2D list\",str(list1))\n",
    "result=list1.flatten()\n",
    "print(\"The 1D list:\",result)"
   ]
  },
  {
   "cell_type": "code",
   "execution_count": 7,
   "id": "7e9ab9ba-3fc4-4a1b-ab89-ec043279c082",
   "metadata": {},
   "outputs": [
    {
     "name": "stdout",
     "output_type": "stream",
     "text": [
      "The list before: [1, 2, 1, 2, 3, 4, 5, 3, 4]\n",
      "The list after removing duplicate:  [1, 2, 3, 4, 5]\n"
     ]
    }
   ],
   "source": [
    "## Q.6\n",
    "## write a program to remove duplicate items from a list\n",
    "## L=[1,2,1,2,3,4,5,3,4]\n",
    "L=[1,2,1,2,3,4,5,3,4]\n",
    "print(\"The list before:\",L)\n",
    "l1=[]\n",
    "for i in L:\n",
    "    if i not in l1:\n",
    "        l1.append(i)\n",
    "print(\"The list after removing duplicate: \",l1)"
   ]
  },
  {
   "cell_type": "code",
   "execution_count": 1,
   "id": "a2baa26b-d79c-4c59-aa14-c0df1c9fa03d",
   "metadata": {},
   "outputs": [
    {
     "name": "stdout",
     "output_type": "stream",
     "text": [
      "List [1, 2, 3, 4, 5]: Ascending? True\n",
      "List [1, 3, 2, 4, 5]: Ascending? False\n"
     ]
    }
   ],
   "source": [
    "## Q.7\n",
    "##\n",
    "def is_ascending(lst):\n",
    "        for i in range(len(lst) - 1):\n",
    "            if lst[i] > lst[i + 1]:\n",
    "                return False\n",
    "        return True\n",
    "\n",
    "list1 = [1, 2, 3, 4, 5]\n",
    "list2 = [1, 3, 2, 4, 5]\n",
    "print(f\"List {list1}: Ascending? {is_ascending(list1)}\")\n",
    "print(f\"List {list2}: Ascending? {is_ascending(list2)}\")"
   ]
  },
  {
   "cell_type": "code",
   "execution_count": null,
   "id": "3377efed-1754-4325-b092-570b438583be",
   "metadata": {},
   "outputs": [],
   "source": []
  }
 ],
 "metadata": {
  "kernelspec": {
   "display_name": "Python 3 (ipykernel)",
   "language": "python",
   "name": "python3"
  },
  "language_info": {
   "codemirror_mode": {
    "name": "ipython",
    "version": 3
   },
   "file_extension": ".py",
   "mimetype": "text/x-python",
   "name": "python",
   "nbconvert_exporter": "python",
   "pygments_lexer": "ipython3",
   "version": "3.11.7"
  }
 },
 "nbformat": 4,
 "nbformat_minor": 5
}
